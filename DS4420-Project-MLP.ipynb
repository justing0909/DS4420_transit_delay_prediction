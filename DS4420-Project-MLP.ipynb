{
 "cells": [
  {
   "cell_type": "markdown",
   "id": "8d023b41-3653-40d9-a995-da2ee35e1d66",
   "metadata": {},
   "source": [
    "# imports"
   ]
  },
  {
   "cell_type": "code",
   "execution_count": 2,
   "id": "f4e32326-cd14-4daf-8e36-e608110af237",
   "metadata": {},
   "outputs": [],
   "source": [
    "import numpy as np\n",
    "import pandas as pd\n",
    "import matplotlib.pyplot as plt\n",
    "import sklearn.preprocessing\n",
    "import random"
   ]
  },
  {
   "cell_type": "code",
   "execution_count": 3,
   "id": "97c45929-9b83-4411-aeef-0c3a4a20e9dd",
   "metadata": {},
   "outputs": [],
   "source": [
    "np.random.seed(0)"
   ]
  },
  {
   "cell_type": "markdown",
   "id": "592f00c6-7dac-46f3-9387-de1d70243bf5",
   "metadata": {},
   "source": [
    "# import data"
   ]
  },
  {
   "cell_type": "code",
   "execution_count": 5,
   "id": "e174f379-57b8-4117-ba37-fa94410480f8",
   "metadata": {},
   "outputs": [],
   "source": [
    "\"\"\"\n",
    "x: weather data (3xN) (april 1st until now)\n",
    "[[percip1, percip2, percip3, percip4],\n",
    " [temp1,   temp2,   ...]\n",
    " [bias1,   bias2,   ...]]\n",
    "\n",
    "y: mbta delays  (1xN) (april 1st until now)\n",
    "[[delay1,  delay2,  ...]]\n",
    "includes non-delays.\n",
    "\"\"\";"
   ]
  },
  {
   "cell_type": "code",
   "execution_count": null,
   "id": "710e993b-3562-447d-b00f-cf7cfd644b08",
   "metadata": {},
   "outputs": [],
   "source": []
  },
  {
   "cell_type": "code",
   "execution_count": 6,
   "id": "8f7d8213-7c3c-40cb-8ca3-6962d52af01e",
   "metadata": {},
   "outputs": [],
   "source": [
    "# read csv and keep certain cols\n",
    "spt = pd.read_csv(r\"C:\\Users\\Overl\\DS4420\\assets\\HW4\\ds4420_spotify.csv\")\n",
    "spt = spt[[\"release_month\",\"release_year\",\"artist_pop\",\"track_pop\",\"duration_s\",\"explicit\"]]"
   ]
  },
  {
   "cell_type": "code",
   "execution_count": 7,
   "id": "3fa530f1-3b23-405c-82a5-09f6a688f3d4",
   "metadata": {},
   "outputs": [],
   "source": [
    "def df_scaler(df,cols):\n",
    "    df = df.copy(deep=True)\n",
    "    scaler = sklearn.preprocessing.StandardScaler()\n",
    "    df.loc[:,cols] = scaler.fit_transform(df[cols])\n",
    "    return df"
   ]
  },
  {
   "cell_type": "code",
   "execution_count": 8,
   "id": "f40457d0-d8bd-4cb1-a092-abb13733dddd",
   "metadata": {},
   "outputs": [],
   "source": [
    "spt = df_scaler(spt,cols = [\"release_month\",\n",
    "                            \"release_year\",\n",
    "                            \"artist_pop\",\n",
    "                            \"duration_s\"])"
   ]
  },
  {
   "cell_type": "code",
   "execution_count": 9,
   "id": "0ab5dcbd-a0b5-4e26-8312-ec276c97c627",
   "metadata": {},
   "outputs": [],
   "source": [
    "# explicitly define x\n",
    "x = spt[[\"release_month\",\"release_year\",\"artist_pop\",\"duration_s\",\"explicit\"]]\n",
    "\n",
    "# add bias column to x\n",
    "x[\"bias\"] = np.ones(x.shape[0])\n",
    "\n",
    "# convert x to numpy\n",
    "x = x.to_numpy()"
   ]
  },
  {
   "cell_type": "code",
   "execution_count": 10,
   "id": "d04f8568-a566-4059-8dc0-0d9f5c8f50f9",
   "metadata": {},
   "outputs": [],
   "source": [
    "# explicitly define y\n",
    "y = spt[\"track_pop\"].to_numpy()"
   ]
  },
  {
   "cell_type": "code",
   "execution_count": null,
   "id": "e0f0c607-91d3-475b-88b0-4983d9329988",
   "metadata": {},
   "outputs": [],
   "source": []
  },
  {
   "cell_type": "markdown",
   "id": "58070d89-2653-415d-9963-c746d10f9717",
   "metadata": {},
   "source": [
    "# pointers\n",
    "(set pointers for x_train, x_test, y_train, y_test)"
   ]
  },
  {
   "cell_type": "code",
   "execution_count": 12,
   "id": "f8aa3c02-26d3-4a78-90a1-907f5b342a2e",
   "metadata": {},
   "outputs": [],
   "source": [
    "def tt_idx(y,train_percent:float):\n",
    "    y_len = len(y)\n",
    "    # get random non-repeating \n",
    "    # values for unique indicies:\n",
    "    train_idx = random.sample(range(y_len),\n",
    "                              int(y_len*train_percent))\n",
    "    \n",
    "    # store train vs test in dict\n",
    "    tt_idx_dict = {\n",
    "        \"train\":list(filter(lambda x: \n",
    "                            x in train_idx,\n",
    "                            range(y_len))),\n",
    "        \"test\": list(filter(lambda x: \n",
    "                            x not in train_idx,\n",
    "                            range(y_len)))\n",
    "    }\n",
    "    \n",
    "    # return dict\n",
    "    return tt_idx_dict"
   ]
  },
  {
   "cell_type": "code",
   "execution_count": 13,
   "id": "c10302b8-9a68-425f-90ef-cc447da0ddf9",
   "metadata": {},
   "outputs": [],
   "source": [
    "tt_idict  = tt_idx(y,0.7)\n",
    "train_idx = tt_idict[\"train\"]\n",
    "test_idx  = tt_idict[\"test\"]"
   ]
  },
  {
   "cell_type": "code",
   "execution_count": 14,
   "id": "a5ea9414-17ee-4091-9b5c-8f3f8225f902",
   "metadata": {},
   "outputs": [],
   "source": [
    "x_train = x[train_idx]\n",
    "y_train = y[train_idx]\n",
    "x_test  = x[test_idx]\n",
    "y_test  = y[test_idx]"
   ]
  },
  {
   "cell_type": "markdown",
   "id": "38131b9d-305c-4b2d-b3b5-2d9d6a84f423",
   "metadata": {},
   "source": [
    "# define MLP"
   ]
  },
  {
   "cell_type": "code",
   "execution_count": 16,
   "id": "fd28f343-ffdc-4027-9fc8-43eb3f4a4119",
   "metadata": {},
   "outputs": [],
   "source": [
    "class AbstractAF:\n",
    "    \"\"\"Abstract Activation Function.\n",
    "    This is an abstract class used to represent\n",
    "    activation functions in a MultiLayer Perceptitron.\n",
    "\n",
    "    Each Activation function must have a name\n",
    "    and implement the following three functions:\n",
    "    - fw(w,x)         represents a forward pass through the MLP\n",
    "    - bp_w(w,x)       represents a dL/dw backprop through the MLP\n",
    "    - bp_x(w,x)       represents a dL/dh backprop through the MLP <- TODO look into this.....\n",
    "\n",
    "    This class does not implement any of the three functions.\n",
    "    Child-classes MUST implement all three functions for \n",
    "    backprop to work properly.\n",
    "\n",
    "    In the current implementation, the following classes are the only valid subclasses:\n",
    "    - LinearAF\n",
    "    - ReluAF\n",
    "    \"\"\"\n",
    "    def __init__(self):\n",
    "        self.name = \"Abstract\"\n",
    "\n",
    "    def __repr__(self):\n",
    "        \"\"\"Overwrites the representation with class name.\n",
    "        This function makes the print look cleaner :) \n",
    "        \"\"\"\n",
    "        return f\"<ActivationFunction:{self.name}>\"\n",
    "    \n",
    "    def fw(self,w,x):\n",
    "        raise NotImplementedError(\"Abstract Class cannot run functions.  Please use a subclass.\")\n",
    "\n",
    "    def bp_w(self,w,x):\n",
    "        raise NotImplementedError(\"Abstract Class cannot run functions.  Please use a subclass.\")\n",
    "\n",
    "    def bp_x(self,w,x):\n",
    "        raise NotImplementedError(\"Abstract Class cannot run functions.  Please use a subclass.\")\n",
    "\n",
    "class MeanSquaredErrorAF(AbstractAF):\n",
    "    \"\"\"Mean Squared Error function\"\"\"\n",
    "    def __init__(self):\n",
    "        super().__init__()\n",
    "        self.name = \"MSE\"\n",
    "        self.axis = 0\n",
    "\n",
    "    def fw(self,f,y):\n",
    "        return   np.mean((f-y)**2,axis=1).item()\n",
    "\n",
    "    def bp(self,f,y):\n",
    "        return 2*np.mean((f-y),   axis=self.axis)\n",
    "\n",
    "class LinearAF(AbstractAF):\n",
    "    \"\"\"Linear Activation Function\"\"\"\n",
    "    def __init__(self):\n",
    "        super().__init__()\n",
    "        self.name = \"Linear\"\n",
    "    \n",
    "    def fw(self,w,x):\n",
    "        return w.T.dot(x)\n",
    "\n",
    "    def bp_w(self,w,x):\n",
    "        return x\n",
    "\n",
    "    def bp_x(self,w,x):\n",
    "        return w\n",
    "\n",
    "class ReluAF(AbstractAF):\n",
    "    \"\"\"Relu Activation Function\"\"\"\n",
    "    def __init__(self):\n",
    "        super().__init__()\n",
    "        self.name = \"Relu\"\n",
    "        \n",
    "    def fw(self,w,x):\n",
    "        return np.maximum(0,w.T.dot(x))\n",
    "\n",
    "    def bp_w(self,w,x):\n",
    "        print(\"wtx:\",(w.T.dot(x) > 0).shape)\n",
    "        print(\"x:\",x.shape,\"(expected)\")\n",
    "        return x.dot((w.T.dot(x) > 0).T)\n",
    "\n",
    "    def bp_x(self,w,x):\n",
    "        print(\"wtx:\",(w.T.dot(x) > 0).shape)\n",
    "        print(\"w:\",w.shape,\"(expected)\")\n",
    "        return (w).dot(w.T.dot(x) > 0)"
   ]
  },
  {
   "cell_type": "code",
   "execution_count": 54,
   "id": "96e0b1c1-da22-4d31-9563-9c46b5f72c44",
   "metadata": {},
   "outputs": [],
   "source": [
    "class MLP:\n",
    "    \"\"\"MultiLayer Perceptron\n",
    "    Implementation Notes:\n",
    "    - input and output layers must be defined explicitly.\n",
    "    \"\"\"\n",
    "    def __init__(self,seed=None):\n",
    "        np.random.seed(seed)\n",
    "        self.layers  = []\n",
    "        self.weights = []\n",
    "        self.loss = MeanSquaredErrorAF()\n",
    "\n",
    "    def add_layer(self,nodes:int,afunc:AbstractAF) -> None:\n",
    "        \"\"\"Adds a layer with a given number of nodes\n",
    "        and a given Abstract Function\"\"\"\n",
    "        self.layers.append(MLPLayer(nodes,afunc))\n",
    "\n",
    "    def _init_weights(self) -> None:\n",
    "        \"\"\"Initialize weights based on added layers\"\"\"\n",
    "        assert len(self.layers) > 2, \"layers must be added\"\n",
    "\n",
    "        # reset weights matrix\n",
    "        self.weights = []\n",
    "\n",
    "        # get the shape based on existing layers\n",
    "        for i in range(1,len(self.layers)):\n",
    "            w = np.random.rand(self.layers[i-1].get_nodes(),\n",
    "                       self.layers[i  ].get_nodes())\n",
    "            self.weights.append(w)\n",
    "\n",
    "    def fw(self,x:np.array):\n",
    "        \"\"\"Performs a forward pass from\n",
    "        x through n hidden layers to f_w(x)\n",
    "        by applying an activation function \n",
    "        for each layer in the MLP.\n",
    "\n",
    "        The function also initializes weight\n",
    "        dimensions, if not done so already.\n",
    "\n",
    "        Given the input example:\n",
    "        x_ample = np.ones((3,n))\n",
    "        \n",
    "        each column would represent a sample\n",
    "        ie: \n",
    "        > x_ample[:,0]   would be the 1st sample\n",
    "        > x_ample[:,1]   would be the 2nd sample\n",
    "        > x_ample[:,n-1] would be the nth sample\n",
    "        etc.\n",
    "        \n",
    "        each row would represent a variable\n",
    "        ie:\n",
    "        > x_ample[0,:] would be the 1st parameter\n",
    "        > x_ample[1,:] would be the 2nd parameter\n",
    "        > x_ample[2,:] would be the 3rd parameter\n",
    "        etc.\n",
    "\n",
    "        The output of this function will generally take the shape:\n",
    "        (m,n) where n is the number of columns in the input array\n",
    "        and m is the number of node is the final layer in this MLP.\n",
    "        In this case, we are predicting one value, how late the\n",
    "        MBTA will be, and therefore m will always be 1.\n",
    "        \"\"\"\n",
    "\n",
    "        # init weights if not yet done\n",
    "        if len(self.weights) == 0:\n",
    "            self._init_weights()\n",
    "\n",
    "        # initialize x as the hidden value\n",
    "        # of layer 0 (the input layer)\n",
    "        self.layers[0].h = x\n",
    "\n",
    "        # loop through and update x iteratively:\n",
    "        for i in range(1,len(self.layers)):\n",
    "            x = self.layers[i].fw(self.weights[i-1],x)\n",
    "\n",
    "        # return x\n",
    "        return x\n",
    "    \n",
    "    def _bp_list_factors(self,ridx,debug:bool=False):\n",
    "        \"\"\"Gets a list of factors to\n",
    "        generate the corresponding\n",
    "        weight matrix.\n",
    "        \n",
    "        ridx is the reversed index:\n",
    "        - 0 refers to the last element\n",
    "        - 1 refers to the 2nd to last element\n",
    "        etc.\n",
    "        \"\"\"\n",
    "        reversed_weights = list(reversed(self.weights))\n",
    "        reversed_layers  = list(reversed(self.layers))\n",
    "\n",
    "        # store factors to prod later \n",
    "        prod_factors = []\n",
    "\n",
    "        # loop through the layers add dh\n",
    "        for i in range(ridx):\n",
    "            if debug:\n",
    "                print(f\"\"\"iteration:[{i}]:\\n\n",
    "                layer.h: {reversed_layers[i+1].h.shape}\\n\n",
    "                weight : {reversed_weights[i].shape}\\n\n",
    "                dotable: {...}\\n\n",
    "                \"\"\")\n",
    "            \n",
    "            # print(f\"{reversed_layers[i+1]}.bp_x(...); shape:{reversed_weights[i].shape}\")\n",
    "            prod_factors.append(reversed_layers[i+1].bp_x(reversed_weights[i]))\n",
    "\n",
    "        # add dw\n",
    "        # print(f\"{reversed_layers[ridx+1]}.bp_w(...); shape:{reversed_weights[ridx].shape}\")\n",
    "        prod_factors.append(reversed_layers[ridx+1].bp_w(reversed_weights[ridx]))\n",
    "\n",
    "        # return factors\n",
    "        return prod_factors\n",
    "\n",
    "    def _bp_dot(self,bp_list,loss,debug:bool=False):\n",
    "        \"\"\"bp_list is the list generated from _bp_list_factors()\n",
    "        loss is the VALUES of loss as a matrix\n",
    "        \"\"\"\n",
    "        prod_dh = loss.copy()\n",
    "    \n",
    "        # ignore the last value b/c it's dw not dh\n",
    "        for i in range(len(bp_list) - 1):\n",
    "            # perform a cumulative dot product\n",
    "            # starting from back:\n",
    "            if debug:\n",
    "                print(f\"\"\"iteration:[{i}]:\\n\n",
    "                bp_list: {bp_list[i].shape}\\n\n",
    "                prod_dh: {prod_dh.shape}\\n\n",
    "                dotable: {bp_list[i][1]==prod_dh.shape[0]}\\n\n",
    "                \"\"\")\n",
    "                \n",
    "            try:\n",
    "                prod_dh = bp_list[i].dot(prod_dh)\n",
    "            except:\n",
    "                prod_dh = bp_list[i] * (prod_dh)\n",
    "            \n",
    "    \n",
    "        # dot dw with the prod_dh transpose\n",
    "        dldw = bp_list[-1].dot(prod_dh.T)\n",
    "        return dldw\n",
    "    \n",
    "    def gd(self,\n",
    "           x:np.array,\n",
    "           y:np.array,\n",
    "           eta:float=0.1,\n",
    "           iters:int=10,\n",
    "           debug:bool=False\n",
    "          ):\n",
    "        # list of errors?\n",
    "        ls_mse = []\n",
    "        \n",
    "        for i in range(iters):\n",
    "            # compute the fwd pass\n",
    "            fwp = self.fw(x)\n",
    "            # compute the loss\n",
    "            fwl = self.loss.fw(f=fwp,y=y)\n",
    "            bpl = self.loss.bp(f=fwp,y=y).reshape(1,-1)\n",
    "            for fidx in range(len(self.weights)):\n",
    "                ridx = len(self.weights) - fidx - 1\n",
    "                bpd = self._bp_dot(self._bp_list_factors(fidx),bpl,debug=debug)\n",
    "                    \n",
    "                if debug:\n",
    "                    print(f\"shape match: {self.weights[ridx].shape == bpd.shape}\")\n",
    "                    print(f\"    self.weights[{ridx}]\",self.weights[ridx].shape)\n",
    "                    print(f\"    self._bp_dot[{ridx}]\",bpd.shape)\n",
    "\n",
    "                if bpd.shape == self.weights[ridx].shape:\n",
    "                    # overwrite the weights if the shapes match:\n",
    "                    self.weights[ridx] = (self.weights[ridx] - eta * bpd)\n",
    "                else:\n",
    "                    # throw error otherwise\n",
    "                    raise Exception(\"invalid weight shape\"+\n",
    "                                    f\"expected{self.weights[ridx].shape}; got{bpd.shape}\")\n",
    "            \n",
    "            ls_mse.append(fwl)\n",
    "        return ls_mse"
   ]
  },
  {
   "cell_type": "code",
   "execution_count": 56,
   "id": "90c87d14-0beb-4c19-91a3-1891889c1618",
   "metadata": {},
   "outputs": [],
   "source": [
    "class MLPLayer:\n",
    "    \"\"\"Represents a single layer in the MLP.\n",
    "    \n",
    "    \"\"\"\n",
    "    def __init__(self,nodes,afunc):\n",
    "        self.nodes = int(nodes)\n",
    "        self.afunc = afunc\n",
    "        self.h = None\n",
    "\n",
    "    def __repr__(self):\n",
    "        \"\"\"overwrite representation for pretty print\"\"\"\n",
    "        return \"<MLPLayer: {nodes:\"+f\"{self.nodes},afunc:{self.afunc}\"+\"}>\"\n",
    "\n",
    "    def get_nodes(self):\n",
    "        return self.nodes+0\n",
    "\n",
    "    def fw(self,w:np.array,x:np.array):\n",
    "        \"\"\"store and return the\n",
    "        post-activation values \n",
    "        of a forward pass.\"\"\"\n",
    "        self.h = self.afunc.fw(w=w,x=x)\n",
    "        return self.h.copy()\n",
    "\n",
    "    def bp_w(self,w:np.array):\n",
    "        return self.afunc.bp_w(w=w,x=self.h)\n",
    "\n",
    "    def bp_x(self,w:np.array):\n",
    "        return self.afunc.bp_x(w=w,x=self.h)"
   ]
  },
  {
   "cell_type": "code",
   "execution_count": null,
   "id": "a66ecf29-8de4-40cc-9b4c-a93c92b0e4fd",
   "metadata": {},
   "outputs": [],
   "source": []
  },
  {
   "cell_type": "code",
   "execution_count": null,
   "id": "a5871c55-7f64-4b59-ab2c-2966f756462d",
   "metadata": {},
   "outputs": [],
   "source": []
  },
  {
   "cell_type": "code",
   "execution_count": null,
   "id": "9e46e966-db94-4254-8eed-2372d7a63f72",
   "metadata": {},
   "outputs": [],
   "source": []
  },
  {
   "cell_type": "code",
   "execution_count": 72,
   "id": "51cffb62-7b04-44ab-9b89-c9c1cec3cd32",
   "metadata": {},
   "outputs": [],
   "source": [
    "mlp = MLP(102)\n",
    "mlp.add_layer(6,LinearAF()) # input x\n",
    "mlp.add_layer(10,LinearAF())\n",
    "mlp.add_layer(20,LinearAF())\n",
    "mlp.add_layer(1,ReluAF()) # prediction f_w(x)\n",
    "\n",
    "# run 1000 iters of gradient descent\n",
    "err = mlp.gd(x_train.T,\n",
    "             y_train.T,\n",
    "             eta=0.000001,\n",
    "             iters=1_000)"
   ]
  },
  {
   "cell_type": "code",
   "execution_count": 73,
   "id": "e209bb7d-6a25-496d-a636-7a404e4afada",
   "metadata": {},
   "outputs": [
    {
     "data": {
      "text/plain": [
       "[array([[0.23738138649268142, 0.28325017245471534, -0.13984824843618068,\n",
       "         0.32175734562869024, 0.07265593178498442, 0.43240300613209587,\n",
       "         -0.3357634881674465, -0.20701075318943118, -0.16175627284704372,\n",
       "         0.043529995389087396],\n",
       "        [0.15070168772161477, 0.5244564458079699, -0.22190070849285307,\n",
       "         -0.022331679387750842, 0.3392303376890446, -0.017071071344239037,\n",
       "         0.05471455564185995, -0.221637003275802, -0.3500642718083614,\n",
       "         -0.2936191284112754],\n",
       "        [0.39286719226981515, -0.14274476575409628, 0.40938260016447414,\n",
       "         0.5716569761781894, 0.027844935730475313, 0.031243501747847124,\n",
       "         0.35271326486642113, 0.6724981019594757, 0.2878480563158524,\n",
       "         0.2025184737200404],\n",
       "        [0.14185130353051142, 0.5281466223853314, 0.3869391261430701,\n",
       "         -0.2517069240144666, -0.010565659405551054, 0.11038254001041624,\n",
       "         -0.18156156686153532, -0.4740852914703482, 0.02917174934882834,\n",
       "         -0.06968322395689766],\n",
       "        [0.4433920974134542, 0.2956787775031758, -0.5247933487805477,\n",
       "         0.16531946041250126, -0.3630886307765663, 0.08718183900778781,\n",
       "         -0.453952388844878, 0.2603824141320009, -0.48154617104654956,\n",
       "         0.18346555273732618],\n",
       "        [1.1269576455216446, 1.296852376215074, 1.601215360438473,\n",
       "         0.6927705225459624, 1.1981600424635284, 1.4323057322169934,\n",
       "         1.4329732603275094, 1.0793810871710214, 1.1224820524781571,\n",
       "         1.3868844835661711]], dtype=object),\n",
       " array([[0.5450426793252457, 0.17619822958476364, 0.903808711894711,\n",
       "         0.3967189352469588, 0.655993490944681, 0.29146354815295344,\n",
       "         0.6349714060309171, 0.35252872135234786, 0.2856730996625801,\n",
       "         -0.009714243390347798, 0.3208723717062663, 0.42364458616597905,\n",
       "         0.3547472797614742, 0.33212744863675603, 0.471130594588184,\n",
       "         -0.03750517996336333, 0.1821173068003299, 0.0808523249151467,\n",
       "         0.7728438196877035, 0.6763457868720655],\n",
       "        [0.03854852932885848, 0.4810721865450139, 0.6699135522450828,\n",
       "         0.2969953184951694, 0.334994901989527, 0.3667302466253602,\n",
       "         0.9569233531337415, 0.5122884740867808, 0.8090318306810054,\n",
       "         0.13869152668441037, 0.2491399939214782, 0.0028675211808802115,\n",
       "         0.06649509119677818, 0.5626208736845315, 0.683233736462612,\n",
       "         0.23016602531632838, 0.6770127695873884, 0.7565099345344538,\n",
       "         0.39425392946052684, 0.18050228826161965],\n",
       "        [0.1932110669057386, 0.6950056976494707, 0.7761651457052904,\n",
       "         0.54842759709499, 0.43857429488916094, 0.10227769937545789,\n",
       "         0.20707348411221196, 1.0051817907437985, 0.1289220873624461,\n",
       "         0.5296742435679872, 0.0881248941033969, 0.7509564898152683,\n",
       "         0.26429564582539267, 1.017368281738131, 0.41605797094436203,\n",
       "         1.0672711861906177, 0.710259772104059, 0.7851534666076871,\n",
       "         0.6822541835108203, 0.02715031863982774],\n",
       "        [0.681663625453956, 0.6684016301914831, 0.4071348801616707,\n",
       "         0.4136084202453851, 0.5078168118476261, 0.054236314611004435,\n",
       "         0.8138731438046947, 0.935631672944592, 0.073928907463143,\n",
       "         0.2971052702091533, 0.8356097963669377, -0.010026264246515653,\n",
       "         0.5248182858743966, 0.26581676576372687, 0.3545919575182298,\n",
       "         0.8201681888779161, 0.018202399599819133, 0.5691562879414201,\n",
       "         0.7919680568276284, 0.2954250449700515],\n",
       "        [0.11712270006284005, 0.642625406885484, 0.7205631865067024,\n",
       "         0.6344200174593972, 0.8519670906402377, 0.763474724284468,\n",
       "         0.851976948805246, 0.07236650431419953, 0.9610265707610011,\n",
       "         0.7527518206767065, 0.8291538664769488, 0.7465230757377108,\n",
       "         0.835588458865595, 0.4275404831467819, 0.4749041221273238,\n",
       "         0.6866872934741918, 0.2424108710380253, 0.45404700780425944,\n",
       "         0.3048195547019956, 0.928855045808834],\n",
       "        [0.8257828707189494, 0.5407665326535179, 0.46957351600747915,\n",
       "         0.4996838396440227, 0.3727917053136708, 0.9343552608208884,\n",
       "         0.5512011951857896, 0.22657629602171442, 0.004204604206306632,\n",
       "         0.08183983140920287, 0.6301287887584621, 0.6716579367876568,\n",
       "         0.5455273306090047, 0.5346750525549173, 0.9050515135839502,\n",
       "         0.1287240438936097, 0.055611825970944107, 0.7408220346123134,\n",
       "         0.43029305911079574, 0.9258265179099507],\n",
       "        [0.8174071776971871, 0.797905674243376, 0.6850607708197839,\n",
       "         0.3719863742079316, 0.7228726578103208, 0.36731279180457876,\n",
       "         0.5874595211277579, 0.9209882327667119, 0.3707122587663433,\n",
       "         0.6906894278948578, 1.0154628111904513, 0.35541149264024824,\n",
       "         0.662286118541893, 0.3330901198237742, 0.7048882576523625,\n",
       "         1.0054029425260012, 0.10432268732721492, 0.939245388272454,\n",
       "         0.26847014052547824, 0.1572260486819221],\n",
       "        [0.9018694147936611, 0.5862243915867752, 0.4454105597661931,\n",
       "         0.19193063668717922, 0.24434717838301107, 0.5299109469857768,\n",
       "         0.5050682117885567, 0.24800257877046047, 0.8623381972787844,\n",
       "         0.3665362085590516, 0.7597852184554205, 0.7890023839395531,\n",
       "         0.6127440826283964, 0.5135100605696072, 0.18983476553207504,\n",
       "         0.6435775394556782, 0.7474643748627005, 0.4830702779951301,\n",
       "         0.685051092529467, 0.8372147862169739],\n",
       "        [0.6049255760283577, 0.7499443425945859, 0.4597509989244884,\n",
       "         0.8255194504326618, 0.8973208832657875, 0.7264454857695373,\n",
       "         0.31921101444776756, 0.42119029905018046, 1.0424164075882192,\n",
       "         0.061877898441748874, 0.39812810079162914, 0.3608517565787523,\n",
       "         0.3852774949426884, 0.9028763259503538, 0.08592408581928458,\n",
       "         0.6875582330448166, 0.9057623418832865, 0.8901838899522476,\n",
       "         0.9622493948226924, 0.30760466455142277],\n",
       "        [1.0061813098646455, 0.2068684495637403, 0.3782298962000671,\n",
       "         0.09113001162263318, 0.6002836997902083, 0.00823124625324047,\n",
       "         0.07626612598750805, 0.3734624848083261, 0.7877173351741164,\n",
       "         0.1151391757271059, 0.5308089577045986, 0.4771354993323991,\n",
       "         0.495467215501185, 0.6891615101770212, 0.40423949501238715,\n",
       "         0.14986111598571236, 0.8023494805559321, 0.8198602864430211,\n",
       "         0.52238943724189, 0.2742370446467597]], dtype=object),\n",
       " array([[0.849543220008565],\n",
       "        [0.51512005043979],\n",
       "        [0.8702941343093186],\n",
       "        [0.08424312416596981],\n",
       "        [0.7006225486598663],\n",
       "        [0.17546688053079768],\n",
       "        [0.11991956880858294],\n",
       "        [0.2784316590884506],\n",
       "        [0.8989002876391754],\n",
       "        [0.43905654395619365],\n",
       "        [0.3177444961393839],\n",
       "        [0.7453776177407702],\n",
       "        [0.4082913498771629],\n",
       "        [0.4029664679305122],\n",
       "        [0.23405739788184562],\n",
       "        [0.9019263211829069],\n",
       "        [0.5011195191013436],\n",
       "        [0.6478102339491151],\n",
       "        [0.29947493156576316],\n",
       "        [-0.02684422198241246]], dtype=object)]"
      ]
     },
     "execution_count": 73,
     "metadata": {},
     "output_type": "execute_result"
    }
   ],
   "source": [
    "mlp.weights"
   ]
  },
  {
   "cell_type": "code",
   "execution_count": 74,
   "id": "53608c64-3b2c-49da-9526-98f79d57cc6e",
   "metadata": {},
   "outputs": [
    {
     "data": {
      "image/png": "[encoded data removed]",
      "text/plain": [
       "<Figure size 640x480 with 1 Axes>"
      ]
     },
     "metadata": {},
     "output_type": "display_data"
    }
   ],
   "source": [
    "# plot the change in error over iterations\n",
    "plt.plot(err)\n",
    "plt.title(\"MSE of MLP vs Epochs\")\n",
    "plt.xlabel(\"Epochs\")\n",
    "plt.ylabel(\"MSE Loss Error\")\n",
    "plt.show()"
   ]
  },
  {
   "cell_type": "code",
   "execution_count": 75,
   "id": "d79ee0d8-91d1-4e51-b008-dbc73628767a",
   "metadata": {},
   "outputs": [],
   "source": [
    "y_pred = mlp.fw(x_train.T).astype(int)"
   ]
  },
  {
   "cell_type": "code",
   "execution_count": 76,
   "id": "9b92678a-ce82-4086-8d88-5020e86f0ed7",
   "metadata": {},
   "outputs": [
    {
     "data": {
      "text/plain": [
       "array([[1.      , 0.701352],\n",
       "       [0.701352, 1.      ]])"
      ]
     },
     "execution_count": 76,
     "metadata": {},
     "output_type": "execute_result"
    }
   ],
   "source": [
    "np.corrcoef(y_pred.flatten(),y_train.flatten())"
   ]
  },
  {
   "cell_type": "code",
   "execution_count": 77,
   "id": "7c16ff88-989c-4445-89f7-e875961fce52",
   "metadata": {},
   "outputs": [
    {
     "data": {
      "text/plain": [
       "(-40.0, 100.0)"
      ]
     },
     "execution_count": 77,
     "metadata": {},
     "output_type": "execute_result"
    },
    {
     "data": {
      "image/png": "[encoded data removed]",
      "text/plain": [
       "<Figure size 640x480 with 1 Axes>"
      ]
     },
     "metadata": {},
     "output_type": "display_data"
    }
   ],
   "source": [
    "plt.hist(y_pred.astype(int).flatten())\n",
    "plt.xlim(-40,100)"
   ]
  },
  {
   "cell_type": "code",
   "execution_count": 78,
   "id": "b77b4836-f1a0-4c4f-84fe-dacfc74cf6f2",
   "metadata": {},
   "outputs": [
    {
     "data": {
      "text/plain": [
       "(-40.0, 100.0)"
      ]
     },
     "execution_count": 78,
     "metadata": {},
     "output_type": "execute_result"
    },
    {
     "data": {
      "image/png": "[encoded data removed]",
      "text/plain": [
       "<Figure size 640x480 with 1 Axes>"
      ]
     },
     "metadata": {},
     "output_type": "display_data"
    }
   ],
   "source": [
    "plt.hist(y_test.astype(int).flatten())\n",
    "plt.xlim(-40,100)"
   ]
  },
  {
   "cell_type": "code",
   "execution_count": null,
   "id": "61683928-1923-4246-8537-7803cb02514d",
   "metadata": {},
   "outputs": [],
   "source": []
  },
  {
   "cell_type": "code",
   "execution_count": null,
   "id": "24be1fd4-6bab-4450-b0d6-433de4956578",
   "metadata": {},
   "outputs": [],
   "source": []
  }
 ],
 "metadata": {
  "kernelspec": {
   "display_name": "Python 3 (ipykernel)",
   "language": "python",
   "name": "python3"
  },
  "language_info": {
   "codemirror_mode": {
    "name": "ipython",
    "version": 3
   },
   "file_extension": ".py",
   "mimetype": "text/x-python",
   "name": "python",
   "nbconvert_exporter": "python",
   "pygments_lexer": "ipython3",
   "version": "3.11.7"
  }
 },
 "nbformat": 4,
 "nbformat_minor": 5
}
