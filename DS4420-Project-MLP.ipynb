{
 "cells": [
  {
   "cell_type": "markdown",
   "id": "8d023b41-3653-40d9-a995-da2ee35e1d66",
   "metadata": {},
   "source": [
    "# imports"
   ]
  },
  {
   "cell_type": "code",
   "execution_count": 2,
   "id": "f4e32326-cd14-4daf-8e36-e608110af237",
   "metadata": {},
   "outputs": [],
   "source": [
    "import numpy as np\n",
    "import pandas as pd\n",
    "import matplotlib.pyplot as plt\n",
    "import sklearn.preprocessing\n",
    "import random\n",
    "import datetime\n",
    "import time"
   ]
  },
  {
   "cell_type": "code",
   "execution_count": 3,
   "id": "97c45929-9b83-4411-aeef-0c3a4a20e9dd",
   "metadata": {},
   "outputs": [],
   "source": [
    "np.random.seed(7654)"
   ]
  },
  {
   "cell_type": "markdown",
   "id": "592f00c6-7dac-46f3-9387-de1d70243bf5",
   "metadata": {},
   "source": [
    "# import data"
   ]
  },
  {
   "cell_type": "code",
   "execution_count": 5,
   "id": "e174f379-57b8-4117-ba37-fa94410480f8",
   "metadata": {},
   "outputs": [],
   "source": [
    "\"\"\"\n",
    "x: weather data (3xN) (april 1st until now)\n",
    "[[percip1, percip2, percip3, percip4],\n",
    " [temp1,   temp2,   ...]\n",
    " [bias1,   bias2,   ...]]\n",
    "\n",
    "y: mbta delays  (1xN) (april 1st until now)\n",
    "[[delay1,  delay2,  ...]]\n",
    "includes non-delays.\n",
    "\"\"\";"
   ]
  },
  {
   "cell_type": "code",
   "execution_count": 6,
   "id": "ae5b35cb-2ce1-4925-babf-62cad968cbde",
   "metadata": {},
   "outputs": [],
   "source": [
    "scaled = pd.read_csv(\"ruggles2dtxg_weather_scaled.csv\")"
   ]
  },
  {
   "cell_type": "code",
   "execution_count": 7,
   "id": "132bffca-8353-43fb-b9a1-5328861ef8d2",
   "metadata": {},
   "outputs": [
    {
     "data": {
      "text/plain": [
       "Index(['from_time', 'travel_time_sec', '15min', 'time', 'temperature_2m (°C)',\n",
       "       'precipitation (mm)', 'relative_humidity_2m (%)', 'visibility (m)',\n",
       "       'wind_speed_10m (km/h)', 'rain (mm)', 'snowfall_height (m)',\n",
       "       'snowfall (cm)', 'dew_point_2m (°C)', 'lightning_potential (J/kg)',\n",
       "       'w_code_0', 'w_code_1', 'w_code_2', 'w_code_3', 'w_code_45',\n",
       "       'w_code_51', 'w_code_53', 'w_code_55', 'w_code_57', 'w_code_61',\n",
       "       'w_code_63', 'w_code_65', 'w_code_73', 'w_code_75'],\n",
       "      dtype='object')"
      ]
     },
     "execution_count": 7,
     "metadata": {},
     "output_type": "execute_result"
    }
   ],
   "source": [
    "scaled.columns"
   ]
  },
  {
   "cell_type": "code",
   "execution_count": 8,
   "id": "975d5c42-ec52-4892-be30-9740995843e8",
   "metadata": {},
   "outputs": [
    {
     "data": {
      "text/html": [
       "<div>\n",
       "<style scoped>\n",
       "    .dataframe tbody tr th:only-of-type {\n",
       "        vertical-align: middle;\n",
       "    }\n",
       "\n",
       "    .dataframe tbody tr th {\n",
       "        vertical-align: top;\n",
       "    }\n",
       "\n",
       "    .dataframe thead th {\n",
       "        text-align: right;\n",
       "    }\n",
       "</style>\n",
       "<table border=\"1\" class=\"dataframe\">\n",
       "  <thead>\n",
       "    <tr style=\"text-align: right;\">\n",
       "      <th></th>\n",
       "      <th>travel_time_sec</th>\n",
       "      <th>temperature_2m (°C)</th>\n",
       "      <th>precipitation (mm)</th>\n",
       "      <th>relative_humidity_2m (%)</th>\n",
       "      <th>visibility (m)</th>\n",
       "      <th>wind_speed_10m (km/h)</th>\n",
       "    </tr>\n",
       "  </thead>\n",
       "  <tbody>\n",
       "    <tr>\n",
       "      <th>0</th>\n",
       "      <td>437</td>\n",
       "      <td>0.997457</td>\n",
       "      <td>15.318031</td>\n",
       "      <td>1.432484</td>\n",
       "      <td>-1.707322</td>\n",
       "      <td>0.680066</td>\n",
       "    </tr>\n",
       "    <tr>\n",
       "      <th>1</th>\n",
       "      <td>454</td>\n",
       "      <td>0.997457</td>\n",
       "      <td>15.318031</td>\n",
       "      <td>1.432484</td>\n",
       "      <td>-1.707322</td>\n",
       "      <td>0.680066</td>\n",
       "    </tr>\n",
       "    <tr>\n",
       "      <th>2</th>\n",
       "      <td>628</td>\n",
       "      <td>1.043243</td>\n",
       "      <td>-0.123222</td>\n",
       "      <td>1.666488</td>\n",
       "      <td>-1.106371</td>\n",
       "      <td>0.121651</td>\n",
       "    </tr>\n",
       "    <tr>\n",
       "      <th>3</th>\n",
       "      <td>478</td>\n",
       "      <td>1.043243</td>\n",
       "      <td>-0.123222</td>\n",
       "      <td>1.666488</td>\n",
       "      <td>-1.106371</td>\n",
       "      <td>0.121651</td>\n",
       "    </tr>\n",
       "    <tr>\n",
       "      <th>4</th>\n",
       "      <td>550</td>\n",
       "      <td>1.027981</td>\n",
       "      <td>-0.123222</td>\n",
       "      <td>1.666488</td>\n",
       "      <td>-1.128629</td>\n",
       "      <td>-0.325081</td>\n",
       "    </tr>\n",
       "    <tr>\n",
       "      <th>...</th>\n",
       "      <td>...</td>\n",
       "      <td>...</td>\n",
       "      <td>...</td>\n",
       "      <td>...</td>\n",
       "      <td>...</td>\n",
       "      <td>...</td>\n",
       "    </tr>\n",
       "    <tr>\n",
       "      <th>13558</th>\n",
       "      <td>443</td>\n",
       "      <td>0.676961</td>\n",
       "      <td>-0.123222</td>\n",
       "      <td>1.713289</td>\n",
       "      <td>-1.796351</td>\n",
       "      <td>-1.516366</td>\n",
       "    </tr>\n",
       "    <tr>\n",
       "      <th>13559</th>\n",
       "      <td>427</td>\n",
       "      <td>0.676961</td>\n",
       "      <td>-0.123222</td>\n",
       "      <td>1.713289</td>\n",
       "      <td>-1.796351</td>\n",
       "      <td>-1.516366</td>\n",
       "    </tr>\n",
       "    <tr>\n",
       "      <th>13560</th>\n",
       "      <td>458</td>\n",
       "      <td>0.676961</td>\n",
       "      <td>-0.123222</td>\n",
       "      <td>1.713289</td>\n",
       "      <td>-1.790787</td>\n",
       "      <td>-1.839006</td>\n",
       "    </tr>\n",
       "    <tr>\n",
       "      <th>13561</th>\n",
       "      <td>445</td>\n",
       "      <td>0.676961</td>\n",
       "      <td>-0.123222</td>\n",
       "      <td>1.713289</td>\n",
       "      <td>-1.790787</td>\n",
       "      <td>-1.839006</td>\n",
       "    </tr>\n",
       "    <tr>\n",
       "      <th>13562</th>\n",
       "      <td>452</td>\n",
       "      <td>2.035256</td>\n",
       "      <td>-0.123222</td>\n",
       "      <td>1.385684</td>\n",
       "      <td>-1.123064</td>\n",
       "      <td>0.618020</td>\n",
       "    </tr>\n",
       "  </tbody>\n",
       "</table>\n",
       "<p>13563 rows × 6 columns</p>\n",
       "</div>"
      ],
      "text/plain": [
       "       travel_time_sec  temperature_2m (°C)  precipitation (mm)  \\\n",
       "0                  437             0.997457           15.318031   \n",
       "1                  454             0.997457           15.318031   \n",
       "2                  628             1.043243           -0.123222   \n",
       "3                  478             1.043243           -0.123222   \n",
       "4                  550             1.027981           -0.123222   \n",
       "...                ...                  ...                 ...   \n",
       "13558              443             0.676961           -0.123222   \n",
       "13559              427             0.676961           -0.123222   \n",
       "13560              458             0.676961           -0.123222   \n",
       "13561              445             0.676961           -0.123222   \n",
       "13562              452             2.035256           -0.123222   \n",
       "\n",
       "       relative_humidity_2m (%)  visibility (m)  wind_speed_10m (km/h)  \n",
       "0                      1.432484       -1.707322               0.680066  \n",
       "1                      1.432484       -1.707322               0.680066  \n",
       "2                      1.666488       -1.106371               0.121651  \n",
       "3                      1.666488       -1.106371               0.121651  \n",
       "4                      1.666488       -1.128629              -0.325081  \n",
       "...                         ...             ...                    ...  \n",
       "13558                  1.713289       -1.796351              -1.516366  \n",
       "13559                  1.713289       -1.796351              -1.516366  \n",
       "13560                  1.713289       -1.790787              -1.839006  \n",
       "13561                  1.713289       -1.790787              -1.839006  \n",
       "13562                  1.385684       -1.123064               0.618020  \n",
       "\n",
       "[13563 rows x 6 columns]"
      ]
     },
     "execution_count": 8,
     "metadata": {},
     "output_type": "execute_result"
    }
   ],
   "source": [
    "scaled[[\"travel_time_sec\",\n",
    "        'temperature_2m (°C)',\n",
    "        'precipitation (mm)', \n",
    "        'relative_humidity_2m (%)', \n",
    "        'visibility (m)',\n",
    "        'wind_speed_10m (km/h)']]"
   ]
  },
  {
   "cell_type": "code",
   "execution_count": 9,
   "id": "710e993b-3562-447d-b00f-cf7cfd644b08",
   "metadata": {},
   "outputs": [],
   "source": [
    "big_five_cols = ['temperature_2m (°C)',\n",
    "                 'precipitation (mm)',\n",
    "                 'relative_humidity_2m (%)',\n",
    "                 'visibility (m)',\n",
    "                 'wind_speed_10m (km/h)']"
   ]
  },
  {
   "cell_type": "code",
   "execution_count": null,
   "id": "f40457d0-d8bd-4cb1-a092-abb13733dddd",
   "metadata": {},
   "outputs": [],
   "source": []
  },
  {
   "cell_type": "code",
   "execution_count": 10,
   "id": "0ab5dcbd-a0b5-4e26-8312-ec276c97c627",
   "metadata": {},
   "outputs": [],
   "source": [
    "# explicitly define x\n",
    "x = scaled[big_five_cols].copy(deep=True)\n",
    "\n",
    "# add bias column to x\n",
    "x[\"bias\"] = np.ones(x.shape[0])\n",
    "\n",
    "# convert x to numpy\n",
    "x = x.to_numpy()"
   ]
  },
  {
   "cell_type": "code",
   "execution_count": 11,
   "id": "e9f31191-bbf3-44b0-b080-c4e35e539178",
   "metadata": {},
   "outputs": [],
   "source": [
    "scaler = sklearn.preprocessing.MinMaxScaler()\n",
    "y = scaler.fit_transform(scaled[\"travel_time_sec\"].to_numpy().reshape(-1,1))"
   ]
  },
  {
   "cell_type": "code",
   "execution_count": 12,
   "id": "d04f8568-a566-4059-8dc0-0d9f5c8f50f9",
   "metadata": {},
   "outputs": [],
   "source": [
    "# explicitly define y\n",
    "y = scaled[\"travel_time_sec\"].to_numpy()"
   ]
  },
  {
   "cell_type": "code",
   "execution_count": null,
   "id": "e0f0c607-91d3-475b-88b0-4983d9329988",
   "metadata": {},
   "outputs": [],
   "source": []
  },
  {
   "cell_type": "code",
   "execution_count": null,
   "id": "ef97ba45-5637-484d-a619-df97f7c08cf8",
   "metadata": {},
   "outputs": [],
   "source": []
  },
  {
   "cell_type": "markdown",
   "id": "58070d89-2653-415d-9963-c746d10f9717",
   "metadata": {},
   "source": [
    "# pointers\n",
    "(set pointers for x_train, x_test, y_train, y_test)"
   ]
  },
  {
   "cell_type": "code",
   "execution_count": 14,
   "id": "f8aa3c02-26d3-4a78-90a1-907f5b342a2e",
   "metadata": {},
   "outputs": [],
   "source": [
    "def tt_idx(y,train_percent:float):\n",
    "    y_len = len(y)\n",
    "    # get random non-repeating \n",
    "    # values for unique indicies:\n",
    "    train_idx = random.sample(range(y_len),\n",
    "                              int(y_len*train_percent))\n",
    "    \n",
    "    # store train vs test in dict\n",
    "    tt_idx_dict = {\n",
    "        \"train\":list(filter(lambda x: \n",
    "                            x in train_idx,\n",
    "                            range(y_len))),\n",
    "        \"test\": list(filter(lambda x: \n",
    "                            x not in train_idx,\n",
    "                            range(y_len)))\n",
    "    }\n",
    "    \n",
    "    # return dict\n",
    "    return tt_idx_dict"
   ]
  },
  {
   "cell_type": "code",
   "execution_count": 15,
   "id": "c10302b8-9a68-425f-90ef-cc447da0ddf9",
   "metadata": {},
   "outputs": [],
   "source": [
    "tt_idict  = tt_idx(y,0.7)\n",
    "train_idx = tt_idict[\"train\"]\n",
    "test_idx  = tt_idict[\"test\"]"
   ]
  },
  {
   "cell_type": "code",
   "execution_count": 16,
   "id": "a5ea9414-17ee-4091-9b5c-8f3f8225f902",
   "metadata": {},
   "outputs": [],
   "source": [
    "x_train = x[train_idx]\n",
    "y_train = y[train_idx]\n",
    "x_test  = x[test_idx]\n",
    "y_test  = y[test_idx]"
   ]
  },
  {
   "cell_type": "markdown",
   "id": "38131b9d-305c-4b2d-b3b5-2d9d6a84f423",
   "metadata": {},
   "source": [
    "# define MLP"
   ]
  },
  {
   "cell_type": "code",
   "execution_count": 18,
   "id": "fd28f343-ffdc-4027-9fc8-43eb3f4a4119",
   "metadata": {},
   "outputs": [],
   "source": [
    "class AbstractAF:\n",
    "    \"\"\"Abstract Activation Function.\n",
    "    This is an abstract class used to represent\n",
    "    activation functions in a MultiLayer Perceptitron.\n",
    "\n",
    "    Each Activation function must have a name\n",
    "    and implement the following three functions:\n",
    "    - fw(w,x)         represents a forward pass through the MLP\n",
    "    - bp_w(w,x)       represents a dL/dw backprop through the MLP\n",
    "    - bp_x(w,x)       represents a dL/dh backprop through the MLP <- TODO look into this.....\n",
    "\n",
    "    This class does not implement any of the three functions.\n",
    "    Child-classes MUST implement all three functions for \n",
    "    backprop to work properly.\n",
    "\n",
    "    In the current implementation, the following classes are the only valid subclasses:\n",
    "    - LinearAF\n",
    "    - ReluAF\n",
    "    \"\"\"\n",
    "    def __init__(self):\n",
    "        self.name = \"Abstract\"\n",
    "\n",
    "    def __repr__(self):\n",
    "        \"\"\"Overwrites the representation with class name.\n",
    "        This function makes the print look cleaner :) \n",
    "        \"\"\"\n",
    "        return f\"<ActivationFunction:{self.name}>\"\n",
    "    \n",
    "    def fw(self,w,x):\n",
    "        raise NotImplementedError(\"Abstract Class cannot run functions.  Please use a subclass.\")\n",
    "\n",
    "    def bp_w(self,w,x):\n",
    "        raise NotImplementedError(\"Abstract Class cannot run functions.  Please use a subclass.\")\n",
    "\n",
    "    def bp_x(self,w,x):\n",
    "        raise NotImplementedError(\"Abstract Class cannot run functions.  Please use a subclass.\")\n",
    "\n",
    "class MeanSquaredErrorAF(AbstractAF):\n",
    "    \"\"\"Mean Squared Error function\"\"\"\n",
    "    def __init__(self):\n",
    "        super().__init__()\n",
    "        self.name = \"MSE\"\n",
    "        self.axis = 0\n",
    "\n",
    "    def fw(self,f,y):\n",
    "        return   np.mean((f-y)**2,axis=1).item()\n",
    "\n",
    "    def bp(self,f,y):\n",
    "        # the idea here is that something else\n",
    "        # needs to take the mean of this AFTER\n",
    "        # adding all the weights and stuff.\n",
    "        return 2*(f-y)\n",
    "\n",
    "class LinearAF(AbstractAF):\n",
    "    \"\"\"Linear Activation Function\"\"\"\n",
    "    def __init__(self):\n",
    "        super().__init__()\n",
    "        self.name = \"Linear\"\n",
    "    \n",
    "    def fw(self,w,x):\n",
    "        return w.T.dot(x)\n",
    "\n",
    "    def bp(self,a):\n",
    "        return np.ones(a.shape)\n",
    "\n",
    "class ReluAF(AbstractAF):\n",
    "    \"\"\"Relu Activation Function\"\"\"\n",
    "    def __init__(self):\n",
    "        super().__init__()\n",
    "        self.name = \"Relu\"\n",
    "        \n",
    "    def fw(self,w,x):\n",
    "        return np.maximum(0,w.T.dot(x))\n",
    "\n",
    "    def bp(self,a):\n",
    "        return a > 0"
   ]
  },
  {
   "cell_type": "code",
   "execution_count": 19,
   "id": "96e0b1c1-da22-4d31-9563-9c46b5f72c44",
   "metadata": {},
   "outputs": [],
   "source": [
    "class MLP:\n",
    "    \"\"\"MultiLayer Perceptron\n",
    "    Implementation Notes:\n",
    "    - input and output layers must be defined explicitly.\n",
    "    \"\"\"\n",
    "    def __init__(self,seed=None):\n",
    "        np.random.seed(seed)\n",
    "        self.layers  = []\n",
    "        self.weights = []\n",
    "        self.loss = MeanSquaredErrorAF()\n",
    "\n",
    "    def add_layer(self,nodes:int,afunc:AbstractAF) -> None:\n",
    "        \"\"\"Adds a layer with a given number of nodes\n",
    "        and a given Abstract Function\"\"\"\n",
    "        self.layers.append(MLPLayer(nodes,afunc))\n",
    "\n",
    "    def _init_weights(self) -> None:\n",
    "        \"\"\"Initialize weights based on added layers\"\"\"\n",
    "        assert len(self.layers) > 1, \"layers must be added\"\n",
    "\n",
    "        # reset weights matrix\n",
    "        self.weights = []\n",
    "\n",
    "        # get the shape based on existing layers\n",
    "        for i in range(1,len(self.layers)):\n",
    "            w = np.random.rand(self.layers[i-1].get_nodes(),\n",
    "                       self.layers[i  ].get_nodes())\n",
    "            self.weights.append(w)\n",
    "\n",
    "    def fw(self,x:np.array):\n",
    "        \"\"\"Performs a forward pass from\n",
    "        x through n hidden layers to f_w(x)\n",
    "        by applying an activation function \n",
    "        for each layer in the MLP.\n",
    "\n",
    "        The function also initializes weight\n",
    "        dimensions, if not done so already.\n",
    "\n",
    "        Given the input example:\n",
    "        x_ample = np.ones((3,n))\n",
    "        \n",
    "        each column would represent a sample\n",
    "        ie: \n",
    "        > x_ample[:,0]   would be the 1st sample\n",
    "        > x_ample[:,1]   would be the 2nd sample\n",
    "        > x_ample[:,n-1] would be the nth sample\n",
    "        etc.\n",
    "        \n",
    "        each row would represent a variable\n",
    "        ie:\n",
    "        > x_ample[0,:] would be the 1st parameter\n",
    "        > x_ample[1,:] would be the 2nd parameter\n",
    "        > x_ample[2,:] would be the 3rd parameter\n",
    "        etc.\n",
    "\n",
    "        The output of this function will generally take the shape:\n",
    "        (m,n) where n is the number of columns in the input array\n",
    "        and m is the number of node is the final layer in this MLP.\n",
    "        In this case, we are predicting one value, how late the\n",
    "        MBTA will be, and therefore m will always be 1.\n",
    "        \"\"\"\n",
    "\n",
    "        # init weights if not yet done\n",
    "        if len(self.weights) == 0:\n",
    "            self._init_weights()\n",
    "\n",
    "        # initialize x as the hidden value\n",
    "        # of layer 0 (the input layer)\n",
    "        self.layers[0].h = x\n",
    "\n",
    "        # loop through and update x iteratively:\n",
    "        for i in range(1,len(self.layers)):\n",
    "            x = self.layers[i].fw(self.weights[i-1],x)\n",
    "\n",
    "        # return x\n",
    "        return x\n",
    "\n",
    "    def get_partial_d_list(self,ridx=0,loss=None):\n",
    "        \"\"\"Gets list of factors to\n",
    "        perform a partial derivate.\n",
    "        ridx=0 refers to the LAST \n",
    "               weight matrix.\n",
    "        ridx=1 refers to the second\n",
    "               to last weight matrix\n",
    "        \"\"\"\n",
    "        dlist = []\n",
    "        current = loss\n",
    "        dlist.append(current)\n",
    "        dlist.append(mlp.layers[-1].afunc.bp(current))\n",
    "    \n",
    "        if ridx==0:\n",
    "            # get dh\n",
    "            current = self.layers[-2].h\n",
    "            dlist.append(current)\n",
    "        elif ridx==1:\n",
    "            # get dw2\n",
    "            dlist.append(self.weights[-1])\n",
    "            # add h\n",
    "            dlist.append(self.layers[-2].h)\n",
    "            # get x\n",
    "            dlist.append(self.layers[-3].h)\n",
    "        elif ridx==2:\n",
    "            # get dw3\n",
    "            dlist.append(self.weights[-1])\n",
    "            # add h2\n",
    "            dlist.append(self.layers[-2].h)\n",
    "            # get dw2\n",
    "            dlist.append(self.weights[-2])\n",
    "            # add h1\n",
    "            dlist.append(self.layers[-3].h)\n",
    "            # get x\n",
    "            dlist.append(self.layers[-4].h)\n",
    "        return dlist\n",
    "\n",
    "    def pair_dlist(self,dlist):\n",
    "        paired_list = []\n",
    "        i = 1\n",
    "        while i < (len(dlist)):\n",
    "            if dlist[i-1].shape == dlist[i].shape:\n",
    "                paired_list.append(dlist[i-1]*dlist[i])\n",
    "                i+=1 \n",
    "            else:\n",
    "                paired_list.append(dlist[i])\n",
    "                i+=1\n",
    "        return paired_list\n",
    "\n",
    "    def reconstruct_dlist_no_pairs(self,plist):\n",
    "        current = plist[0]\n",
    "        for i in range(1,len(plist)):\n",
    "            # print(current.shape, plist[i].shape)\n",
    "            if current.shape == plist[i].shape:\n",
    "                # print(\"same shape:\")\n",
    "                current = current*plist[i]\n",
    "            else:\n",
    "                try:\n",
    "                    # get dh\n",
    "                    current = plist[i].dot(current) \n",
    "                    try:\n",
    "                        # try again \n",
    "                        current = plist[i].dot(current.T) \n",
    "                    except:\n",
    "                        pass\n",
    "                except:\n",
    "                    # get dw\n",
    "                    current = current.dot(plist[i].T).T\n",
    "        return current\n",
    "\n",
    "    def bp_pipeline(self,ridx,loss):\n",
    "        dlist = self.get_partial_d_list(ridx,loss)\n",
    "        plist = self.pair_dlist(dlist)\n",
    "        dLdw  = self.reconstruct_dlist_no_pairs(plist)\n",
    "        return dLdw\n",
    "    \n",
    "    def gd(self,\n",
    "           x:np.array,\n",
    "           y:np.array,\n",
    "           eta:float=0.1,\n",
    "           iters:int=10,\n",
    "           debug:bool=False\n",
    "          ):\n",
    "        # start timer\n",
    "        start = time.time()\n",
    "        \n",
    "        # list of errors?\n",
    "        ls_mse = []\n",
    "        \n",
    "        for i in range(iters):\n",
    "            # compute the fwd pass\n",
    "            fwp = self.fw(x)\n",
    "            # compute the loss\n",
    "            fwl = self.loss.fw(f=fwp,y=y)\n",
    "            bpl = self.loss.bp(f=fwp,y=y).reshape(1,-1)\n",
    "            for fidx in range(len(self.weights)):\n",
    "                ridx = len(self.weights) - fidx - 1\n",
    "                bpd = self.bp_pipeline(fidx,loss=bpl) # get backprop\n",
    "                    \n",
    "                if debug:\n",
    "                    print(f\"shape match: {self.weights[ridx].shape == bpd.shape}\")\n",
    "                    print(f\"    self.weights[{ridx}]\",self.weights[ridx].shape)\n",
    "                    print(f\"    self._bp_dot[{ridx}]\",bpd.shape)\n",
    "\n",
    "                if bpd.shape == self.weights[ridx].shape:\n",
    "                    # overwrite the weights if the shapes match:\n",
    "                    self.weights[ridx] = (self.weights[ridx] - eta * bpd)\n",
    "                else:\n",
    "                    # throw error otherwise\n",
    "                    raise Exception(\"invalid weight shape\"+\n",
    "                                    f\"expected{self.weights[ridx].shape}; got{bpd.shape}\")\n",
    "\n",
    "            # get show the time left:\n",
    "            now = time.time()\n",
    "            print(f\"progress:{round(100*(i+1)/iters,2)}%\\t\\ttime_elapsed:{round(now - start,2)}\",end=\"\\r\")\n",
    "            ls_mse.append(fwl)\n",
    "        return ls_mse"
   ]
  },
  {
   "cell_type": "code",
   "execution_count": 20,
   "id": "90c87d14-0beb-4c19-91a3-1891889c1618",
   "metadata": {},
   "outputs": [],
   "source": [
    "class MLPLayer:\n",
    "    \"\"\"Represents a single layer in the MLP.\n",
    "    \n",
    "    \"\"\"\n",
    "    def __init__(self,nodes,afunc):\n",
    "        self.nodes = int(nodes)\n",
    "        self.afunc = afunc\n",
    "        self.h = None\n",
    "\n",
    "    def __repr__(self):\n",
    "        \"\"\"overwrite representation for pretty print\"\"\"\n",
    "        return \"<MLPLayer: {nodes:\"+f\"{self.nodes},afunc:{self.afunc}\"+\"}>\"\n",
    "\n",
    "    def get_nodes(self):\n",
    "        return self.nodes+0\n",
    "\n",
    "    def fw(self,w:np.array,x:np.array):\n",
    "        \"\"\"store and return the\n",
    "        post-activation values \n",
    "        of a forward pass.\"\"\"\n",
    "        self.h = self.afunc.fw(w=w,x=x)\n",
    "        return self.h.copy()"
   ]
  },
  {
   "cell_type": "code",
   "execution_count": null,
   "id": "a66ecf29-8de4-40cc-9b4c-a93c92b0e4fd",
   "metadata": {},
   "outputs": [],
   "source": []
  },
  {
   "cell_type": "code",
   "execution_count": null,
   "id": "2680262b-152b-4733-bf19-cde1f0cfbc82",
   "metadata": {},
   "outputs": [],
   "source": []
  },
  {
   "cell_type": "code",
   "execution_count": null,
   "id": "a5c86000-5bd9-41ce-a706-fdaa3a61c9bb",
   "metadata": {},
   "outputs": [],
   "source": []
  },
  {
   "cell_type": "code",
   "execution_count": 21,
   "id": "a5871c55-7f64-4b59-ab2c-2966f756462d",
   "metadata": {},
   "outputs": [
    {
     "data": {
      "text/plain": [
       "array([[0.],\n",
       "       [0.]])"
      ]
     },
     "execution_count": 21,
     "metadata": {},
     "output_type": "execute_result"
    }
   ],
   "source": [
    "mlp = MLP(102)\n",
    "mlp.add_layer(6,LinearAF()) # prediction f_w(x)\n",
    "mlp.add_layer(3,ReluAF())\n",
    "mlp.add_layer(2,LinearAF())\n",
    "mlp.add_layer(1,ReluAF()) # prediction f_w(x)\n",
    "\n",
    "mlp.fw(x_train.T)\n",
    "mlp.layers\n",
    "mlp.weights\n",
    "mlp.bp_pipeline(ridx=0,\n",
    "                loss=mlp.loss.bp(mlp.fw(x_train.T),y_train.T))"
   ]
  },
  {
   "cell_type": "code",
   "execution_count": 22,
   "id": "cb83e0cb-6af4-48ab-99f5-fa26175af064",
   "metadata": {},
   "outputs": [
    {
     "data": {
      "text/plain": [
       "[array([[0.59768158, 0.6759869 , 0.29928174],\n",
       "        [0.73074027, 0.57873939, 0.80901767],\n",
       "        [0.1672485 , 0.31214497, 0.35793155],\n",
       "        [0.4917473 , 0.49019824, 0.89440989],\n",
       "        [0.18241053, 0.36116209, 0.81059146],\n",
       "        [0.33344683, 0.5189505 , 0.26162022]]),\n",
       " array([[0.13092809, 0.12241719],\n",
       "        [0.55165734, 0.02938371],\n",
       "        [0.60277512, 0.75088233]]),\n",
       " array([[0.24907072],\n",
       "        [0.19767774]])]"
      ]
     },
     "execution_count": 22,
     "metadata": {},
     "output_type": "execute_result"
    }
   ],
   "source": [
    "mlp.weights"
   ]
  },
  {
   "cell_type": "code",
   "execution_count": 29,
   "id": "4a0327f8-8449-44f0-9720-d4a419bddafc",
   "metadata": {},
   "outputs": [
    {
     "name": "stdout",
     "output_type": "stream",
     "text": [
      "progress:100.0%\t\ttime_elapsed:0.08\r"
     ]
    }
   ],
   "source": [
    "err = mlp.gd(\n",
    "    x_train.T,\n",
    "    y_train.T,\n",
    "    eta   = 0.00002,\n",
    "    iters = 100\n",
    ")"
   ]
  },
  {
   "cell_type": "code",
   "execution_count": null,
   "id": "28111a4e-b284-41fd-9005-823125d79207",
   "metadata": {},
   "outputs": [],
   "source": []
  },
  {
   "cell_type": "code",
   "execution_count": 32,
   "id": "ee93f20a-af2f-4bcd-8afb-17edabc30b3c",
   "metadata": {},
   "outputs": [],
   "source": [
    "# def get_partial_d_list(ridx=0):\n",
    "#     \"\"\"Gets list of factors to\n",
    "#     perform a partial derivate.\n",
    "#     ridx=0 refers to the LAST \n",
    "#            weight matrix.\n",
    "#     ridx=1 refers to the second\n",
    "#            to last weight matrix\n",
    "#     \"\"\"\n",
    "#     dlist = []\n",
    "#     current = mlp.loss.bp(x_train.T,y_train.T)\n",
    "#     dlist.append(current)\n",
    "#     dlist.append(mlp.layers[-1].afunc.bp(current))\n",
    "\n",
    "#     if ridx==0:\n",
    "#         # get dh\n",
    "#         current = mlp.layers[-2].h\n",
    "#         dlist.append(current)\n",
    "#     elif ridx==1:\n",
    "#         # get dw2\n",
    "#         dlist.append(mlp.weights[-1])\n",
    "#         # add h\n",
    "#         dlist.append(mlp.layers[-2].h)\n",
    "#         # get x\n",
    "#         dlist.append(mlp.layers[-3].h)\n",
    "#     elif ridx==2:\n",
    "#         # get dw3\n",
    "#         dlist.append(mlp.weights[-1])\n",
    "#         # add h2\n",
    "#         dlist.append(mlp.layers[-2].h)\n",
    "#         # get dw2\n",
    "#         dlist.append(mlp.weights[-2])\n",
    "#         # add h1\n",
    "#         dlist.append(mlp.layers[-3].h)\n",
    "#         # get x\n",
    "#         dlist.append(mlp.layers[-4].h)\n",
    "#     return dlist\n",
    "\n",
    "# dlist = get_partial_d_list(0)\n",
    "# print(list(map(lambda x: x.shape,dlist)))"
   ]
  },
  {
   "cell_type": "code",
   "execution_count": 34,
   "id": "9b2294d4-1b5d-4fce-94f6-65ac554fdf41",
   "metadata": {},
   "outputs": [],
   "source": [
    "# def pair_dlist(dlist):\n",
    "#     paired_list = []\n",
    "#     i = 1\n",
    "#     while i < (len(dlist)):\n",
    "#         if dlist[i-1].shape == dlist[i].shape:\n",
    "#             paired_list.append(dlist[i-1]*dlist[i])\n",
    "#             i+=1 \n",
    "#         else:\n",
    "#             paired_list.append(dlist[i])\n",
    "#             i+=1\n",
    "#     return paired_list\n",
    "\n",
    "# plist = pair_dlist(dlist)\n",
    "# print(list(map(lambda x: x.shape,plist)))"
   ]
  },
  {
   "cell_type": "code",
   "execution_count": 36,
   "id": "eab83fe0-4549-4409-b201-751d0982732b",
   "metadata": {},
   "outputs": [],
   "source": [
    "# def reconstruct_dlist_no_pairs(plist):\n",
    "#     current = plist[0]\n",
    "#     for i in range(1,len(plist)):\n",
    "#         # print(current.shape, plist[i].shape)\n",
    "#         if current.shape == plist[i].shape:\n",
    "#             # print(\"same shape:\")\n",
    "#             current = current*plist[i]\n",
    "#         else:\n",
    "#             try:\n",
    "#                 # get dh\n",
    "#                 current = plist[i].dot(current) \n",
    "#                 try:\n",
    "#                     current = plist[i].dot(current.T) \n",
    "#                 except:\n",
    "#                     pass\n",
    "#             except:\n",
    "#                 # get dw\n",
    "#                 current = current.dot(plist[i].T).T\n",
    "#     return current\n",
    "\n",
    "# reconstruct_dlist_no_pairs(plist)"
   ]
  },
  {
   "cell_type": "code",
   "execution_count": 38,
   "id": "4f2eb23a-e629-4281-81ab-6d61eae8c9b7",
   "metadata": {},
   "outputs": [],
   "source": [
    "# def bp_pipeline(self,ridx,loss):\n",
    "#     dlist = self.get_partial_d_list(ridx,loss)\n",
    "#     plist = self.pair_dlist(dlist)\n",
    "#     dLdw  = self.reconstruct_dlist_no_pairs(plist)\n",
    "#     return dLdw"
   ]
  },
  {
   "cell_type": "code",
   "execution_count": 40,
   "id": "e3866c9b-f1ec-405f-9429-fc00552e3104",
   "metadata": {},
   "outputs": [],
   "source": [
    "# bp_pipeline(2).shape"
   ]
  },
  {
   "cell_type": "code",
   "execution_count": 42,
   "id": "e7bac862-50ac-44d0-87d1-6bdb7b97cd9b",
   "metadata": {},
   "outputs": [],
   "source": [
    "# bp_pipeline(1).shape"
   ]
  },
  {
   "cell_type": "code",
   "execution_count": 44,
   "id": "bdb395e6-5084-43d9-978e-c78366219b3c",
   "metadata": {},
   "outputs": [],
   "source": [
    "# bp_pipeline(0).shape"
   ]
  },
  {
   "cell_type": "code",
   "execution_count": null,
   "id": "42a7e795-c61d-42d9-aecb-2d6e4eda72d0",
   "metadata": {},
   "outputs": [],
   "source": []
  },
  {
   "cell_type": "code",
   "execution_count": 47,
   "id": "f4a25f4f-9ebd-496c-b2c4-1f476af1d14d",
   "metadata": {},
   "outputs": [],
   "source": [
    "presum_dLdf = mlp.loss.bp(mlp.fw(x_train.T),y_train.T)"
   ]
  },
  {
   "cell_type": "code",
   "execution_count": 49,
   "id": "cb68300c-d0e8-4b1b-877b-027dd0b15fe6",
   "metadata": {},
   "outputs": [
    {
     "name": "stdout",
     "output_type": "stream",
     "text": [
      "[(1, 9494), (1, 9494), (3, 2), (3, 9494), (6, 3)]\n"
     ]
    },
    {
     "ename": "ValueError",
     "evalue": "shapes (3,2) and (1,9494) not aligned: 2 (dim 1) != 1 (dim 0)",
     "output_type": "error",
     "traceback": [
      "\u001b[1;31m---------------------------------------------------------------------------\u001b[0m",
      "\u001b[1;31mValueError\u001b[0m                                Traceback (most recent call last)",
      "Cell \u001b[1;32mIn[49], line 17\u001b[0m\n\u001b[0;32m     15\u001b[0m         current \u001b[38;5;241m=\u001b[39m current \u001b[38;5;241m*\u001b[39m my_array[i]\n\u001b[0;32m     16\u001b[0m     \u001b[38;5;28;01melse\u001b[39;00m:\n\u001b[1;32m---> 17\u001b[0m         current \u001b[38;5;241m=\u001b[39m my_array[i]\u001b[38;5;241m.\u001b[39mdot(current) \n\u001b[0;32m     19\u001b[0m current\u001b[38;5;241m.\u001b[39mshape\n",
      "\u001b[1;31mValueError\u001b[0m: shapes (3,2) and (1,9494) not aligned: 2 (dim 1) != 1 (dim 0)"
     ]
    }
   ],
   "source": [
    "# my_array = []\n",
    "\n",
    "# my_array.append(presum_dLdf)\n",
    "# my_array.append(presum_dLdf > 0)     # dervative of relu\n",
    "# my_array.append(mlp.weights[1])      # to get dh\n",
    "# my_array.append(mlp.layers[1].h > 0) # derivative of relu\n",
    "# my_array.append(mlp.weights[0])      # to get dx\n",
    "\n",
    "# print(list(map(lambda x: x.shape,my_array)))\n",
    "\n",
    "# current = my_array[0]\n",
    "\n",
    "# for i in range(1,len(my_array)):\n",
    "#     if current.shape == my_array[i].shape:\n",
    "#         current = current * my_array[i]\n",
    "#     else:\n",
    "#         current = my_array[i].dot(current) \n",
    "\n",
    "# current.shape"
   ]
  },
  {
   "cell_type": "code",
   "execution_count": null,
   "id": "cfd77cf3-09ec-432b-80ac-7e6653b2e583",
   "metadata": {},
   "outputs": [],
   "source": [
    "# my_array = []\n",
    "\n",
    "# my_array.append(presum_dLdf)\n",
    "# my_array.append(presum_dLdf > 0)      # dervative of relu\n",
    "# my_array.append(mlp.weights[1])       # to get dh\n",
    "# my_array.append(mlp.layers[1].h > 0)  # derivative of relu\n",
    "# my_array.append(mlp.layers[0].h)      # to get dw1\n",
    "\n",
    "# print(list(map(lambda x: x.shape,my_array)))\n",
    "\n",
    "# current = my_array[0]\n",
    "\n",
    "# for i in range(1,len(my_array)):\n",
    "#     if current.shape == my_array[i].shape:\n",
    "#         current = current * my_array[i]\n",
    "#     else:\n",
    "#         try:\n",
    "#             # get dh\n",
    "#             current = my_array[i].dot(current) \n",
    "#         except:\n",
    "#             # get dw\n",
    "#             current = current.dot(my_array[i].T).T\n",
    "\n",
    "# current.shape"
   ]
  },
  {
   "cell_type": "code",
   "execution_count": 51,
   "id": "bd202dc7-0106-43b2-b820-5ced5ac73555",
   "metadata": {},
   "outputs": [],
   "source": [
    "# my_array = []\n",
    "\n",
    "# my_array.append(presum_dLdf)\n",
    "# my_array.append(presum_dLdf > 0)      # dervative of relu\n",
    "# my_array.append(mlp.layers[1].h)      # to get dw2\n",
    "\n",
    "# print(list(map(lambda x: x.shape,my_array)))\n",
    "\n",
    "\n",
    "# current = my_array[0]\n",
    "\n",
    "# for i in range(1,len(my_array)):\n",
    "#     if current.shape == my_array[i].shape:\n",
    "#         current = current * my_array[i]\n",
    "#     else:\n",
    "#         try:\n",
    "#             # get dh\n",
    "#             current = my_array[i].dot(current) \n",
    "#         except:\n",
    "#             # get dw\n",
    "#             current = current.dot(my_array[i].T).T\n",
    "\n",
    "# current.shape"
   ]
  },
  {
   "cell_type": "code",
   "execution_count": null,
   "id": "e81f75c1-87d5-4370-9bfa-8d6c4f9831e6",
   "metadata": {},
   "outputs": [],
   "source": []
  },
  {
   "cell_type": "code",
   "execution_count": null,
   "id": "00c3cf99-5039-45cb-8a61-c4138bd7a741",
   "metadata": {},
   "outputs": [],
   "source": []
  },
  {
   "cell_type": "code",
   "execution_count": null,
   "id": "9e46e966-db94-4254-8eed-2372d7a63f72",
   "metadata": {},
   "outputs": [],
   "source": []
  },
  {
   "cell_type": "code",
   "execution_count": 56,
   "id": "51cffb62-7b04-44ab-9b89-c9c1cec3cd32",
   "metadata": {},
   "outputs": [
    {
     "name": "stdout",
     "output_type": "stream",
     "text": [
      "progress:100.0%\t\ttime_elapsed:35.85\r"
     ]
    }
   ],
   "source": [
    "mlp = MLP(102)\n",
    "mlp.add_layer(6,LinearAF()) # input x\n",
    "mlp.add_layer(20,LinearAF())\n",
    "mlp.add_layer(10,ReluAF())\n",
    "mlp.add_layer( 1,LinearAF()) # prediction f_w(x)\n",
    "\n",
    "# run 1000 iters of gradient descent\n",
    "err = mlp.gd(x_train.T,\n",
    "             y_train.T,\n",
    "             eta=0.0000000000002,\n",
    "             iters=10_000)"
   ]
  },
  {
   "cell_type": "code",
   "execution_count": null,
   "id": "8414a5d7-dd3f-4c86-ac8e-e3c4d19bc897",
   "metadata": {},
   "outputs": [],
   "source": []
  },
  {
   "cell_type": "code",
   "execution_count": 59,
   "id": "53608c64-3b2c-49da-9526-98f79d57cc6e",
   "metadata": {},
   "outputs": [
    {
     "data": {
      "image/png": "[encoded data removed]",
      "text/plain": [
       "<Figure size 640x480 with 1 Axes>"
      ]
     },
     "metadata": {},
     "output_type": "display_data"
    }
   ],
   "source": [
    "# plot the change in error over iterations\n",
    "plt.plot(err)\n",
    "plt.title(\"MSE of MLP vs Epochs\")\n",
    "plt.xlabel(\"Epochs\")\n",
    "plt.ylabel(\"MSE Loss Error\")\n",
    "plt.show()"
   ]
  },
  {
   "cell_type": "code",
   "execution_count": 61,
   "id": "bf8983e4-f705-49db-aa99-812f88c85a31",
   "metadata": {},
   "outputs": [
    {
     "data": {
      "text/plain": [
       "145504.42568186793"
      ]
     },
     "execution_count": 61,
     "metadata": {},
     "output_type": "execute_result"
    }
   ],
   "source": [
    "mlp.loss.fw(mlp.fw(x_train.T),y_train.reshape(-1,1).T)"
   ]
  },
  {
   "cell_type": "code",
   "execution_count": 63,
   "id": "d79ee0d8-91d1-4e51-b008-dbc73628767a",
   "metadata": {},
   "outputs": [
    {
     "data": {
      "text/plain": [
       "array([[265.08848273, 138.73274074, 138.73274074, ...,   0.        ,\n",
       "          0.        , 337.14189259]])"
      ]
     },
     "execution_count": 63,
     "metadata": {},
     "output_type": "execute_result"
    }
   ],
   "source": [
    "y_pred = mlp.fw(x_test.T).astype(float)\n",
    "assert np.min(y_pred) >= 0, \"relu doesnt work :(\"\n",
    "y_pred"
   ]
  },
  {
   "cell_type": "code",
   "execution_count": 65,
   "id": "9b92678a-ce82-4086-8d88-5020e86f0ed7",
   "metadata": {},
   "outputs": [
    {
     "data": {
      "text/plain": [
       "array([[1.        , 0.03571651],\n",
       "       [0.03571651, 1.        ]])"
      ]
     },
     "execution_count": 65,
     "metadata": {},
     "output_type": "execute_result"
    }
   ],
   "source": [
    "np.corrcoef(y_pred.flatten(),y_test.flatten())"
   ]
  },
  {
   "cell_type": "markdown",
   "id": "9d3a9fe2-c9f0-4f91-a659-518b6e36cc98",
   "metadata": {},
   "source": [
    "## Plot predicted vs actual duration (seconds)"
   ]
  },
  {
   "cell_type": "code",
   "execution_count": 68,
   "id": "b77b4836-f1a0-4c4f-84fe-dacfc74cf6f2",
   "metadata": {},
   "outputs": [
    {
     "data": {
      "image/png": "[encoded data removed]",
      "text/plain": [
       "<Figure size 640x480 with 1 Axes>"
      ]
     },
     "metadata": {},
     "output_type": "display_data"
    }
   ],
   "source": [
    "plt.hist(y_test.astype(float).flatten(),bins=200,\n",
    "         density=True,color=\"blue\",alpha=0.5,\n",
    "         label = \"actual\"\n",
    "        )\n",
    "plt.hist(y_pred.astype(float).flatten(),bins=200,\n",
    "         density=True,color=\"red\",alpha = 0.5,\n",
    "         label = \"prediction\"\n",
    "        )\n",
    "\n",
    "plt.xlim(0,6_000)\n",
    "plt.title(\"predicted vs actual duration (seconds)\")\n",
    "plt.xlabel(\"duration (seconds)\")\n",
    "plt.ylabel(\"frequency\")\n",
    "plt.legend()\n",
    "plt.show()"
   ]
  },
  {
   "cell_type": "code",
   "execution_count": 70,
   "id": "d033b488-b554-4d18-9ca2-9a0e5634590c",
   "metadata": {},
   "outputs": [
    {
     "data": {
      "image/png": "[encoded data removed]",
      "text/plain": [
       "<Figure size 640x480 with 1 Axes>"
      ]
     },
     "metadata": {},
     "output_type": "display_data"
    }
   ],
   "source": [
    "plt.hist(y_test.astype(float).flatten(),bins=300,\n",
    "         density=True,color=\"blue\",alpha=0.5,\n",
    "         label = \"actual\"\n",
    "        )\n",
    "plt.hist(y_pred.astype(float).flatten(),bins=25,\n",
    "         density=True,color=\"red\",alpha = 0.5,\n",
    "         label = \"prediction\"\n",
    "        )\n",
    "\n",
    "plt.xlim(0,1200)\n",
    "plt.title(\"predicted vs actual duration (seconds)\")\n",
    "plt.xlabel(\"duration (seconds)\")\n",
    "plt.ylabel(\"frequency\")\n",
    "plt.legend()\n",
    "plt.show()"
   ]
  },
  {
   "cell_type": "markdown",
   "id": "11c669e8-ae0a-444d-9934-8c907fa40c6d",
   "metadata": {},
   "source": [
    "# summary stats"
   ]
  },
  {
   "cell_type": "markdown",
   "id": "7d0f96de-9f55-4db6-95c3-72a1b1d72707",
   "metadata": {},
   "source": [
    "## Mean:"
   ]
  },
  {
   "cell_type": "code",
   "execution_count": 72,
   "id": "8b725f3e-f1d0-4ce7-8b49-4e42ea3828f2",
   "metadata": {},
   "outputs": [
    {
     "name": "stdout",
     "output_type": "stream",
     "text": [
      "average time (seconds):\n",
      "  predicted:           158.4718826337429\n",
      "  actual:              476.10592283116245\n",
      "  actual (no outlier): 476.10592283116245\n"
     ]
    }
   ],
   "source": [
    "print(\"average time (seconds):\")\n",
    "# predicted average time (seconds)\n",
    "print(\"  predicted:          \",np.mean(y_pred))\n",
    "# real average time (seconds)\n",
    "print(\"  actual:             \",np.mean(y_test))\n",
    "# real average time (without outlier)\n",
    "print(\"  actual (no outlier):\",\n",
    "      np.mean(y_test[y_test < 3000]))"
   ]
  },
  {
   "cell_type": "code",
   "execution_count": null,
   "id": "5799d4d1-53d0-4f34-98fd-e60dc889c969",
   "metadata": {},
   "outputs": [],
   "source": []
  },
  {
   "cell_type": "markdown",
   "id": "1f02e252-e07d-4626-82b5-cdb0aebd6f63",
   "metadata": {},
   "source": [
    "## Var"
   ]
  },
  {
   "cell_type": "code",
   "execution_count": 76,
   "id": "9c10095c-99a6-419f-ab3f-494698d1c75b",
   "metadata": {},
   "outputs": [
    {
     "name": "stdout",
     "output_type": "stream",
     "text": [
      "variance of time:\n",
      "  predicted:           27663.506080127154\n",
      "  actual:              4870.956831472049\n",
      "  actual (no outlier): 4870.956831472049\n"
     ]
    }
   ],
   "source": [
    "print(\"variance of time:\")\n",
    "# predicted average time (seconds)\n",
    "print(\"  predicted:          \",np.var(y_pred))\n",
    "# real average time (seconds)\n",
    "print(\"  actual:             \",np.var(y_test))\n",
    "# real average time (without outlier)\n",
    "print(\"  actual (no outlier):\",\n",
    "      np.var(y_test[y_test < 3000]))"
   ]
  },
  {
   "cell_type": "code",
   "execution_count": null,
   "id": "8829509c-05b7-4e56-a1a0-75acc2f1fea5",
   "metadata": {},
   "outputs": [],
   "source": []
  },
  {
   "cell_type": "code",
   "execution_count": null,
   "id": "6b085f8c-88a8-44f0-ad72-29e11de13b1a",
   "metadata": {},
   "outputs": [],
   "source": []
  },
  {
   "cell_type": "code",
   "execution_count": null,
   "id": "9f5b932c-c695-4337-83f0-e55d526b4e65",
   "metadata": {},
   "outputs": [],
   "source": [
    "np.corrcoef(y_pred.flatten(),y_test.flatten())"
   ]
  },
  {
   "cell_type": "code",
   "execution_count": null,
   "id": "356e13f7-eff7-4bba-a672-c46b1f7ac34d",
   "metadata": {},
   "outputs": [],
   "source": []
  },
  {
   "cell_type": "code",
   "execution_count": null,
   "id": "362272c7-a8fb-421f-bec4-d9a0d8170266",
   "metadata": {},
   "outputs": [],
   "source": []
  },
  {
   "cell_type": "code",
   "execution_count": null,
   "id": "0573e534-71d2-4b12-a03a-816ed75d8a9c",
   "metadata": {},
   "outputs": [],
   "source": []
  }
 ],
 "metadata": {
  "kernelspec": {
   "display_name": "Python 3 (ipykernel)",
   "language": "python",
   "name": "python3"
  },
  "language_info": {
   "codemirror_mode": {
    "name": "ipython",
    "version": 3
   },
   "file_extension": ".py",
   "mimetype": "text/x-python",
   "name": "python",
   "nbconvert_exporter": "python",
   "pygments_lexer": "ipython3",
   "version": "3.11.7"
  }
 },
 "nbformat": 4,
 "nbformat_minor": 5
}
