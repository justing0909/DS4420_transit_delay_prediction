{
 "cells": [
  {
   "cell_type": "code",
   "execution_count": 3105,
   "id": "b2e6388d-13ea-4370-925e-d3db62ed805c",
   "metadata": {},
   "outputs": [],
   "source": [
    "# %run ./new_matrix_EDA.ipynb"
   ]
  },
  {
   "cell_type": "code",
   "execution_count": 3420,
   "id": "858e2078-6029-463a-a6c3-b2bc51ac4b12",
   "metadata": {},
   "outputs": [],
   "source": [
    "df = pd.DataFrame(result_array,columns = [\"_id\",\"bias\",\"prec\",\"temp\",\"delay\"])"
   ]
  },
  {
   "cell_type": "code",
   "execution_count": 3457,
   "id": "ab4aebca-e98e-4f16-9741-1cdaaf5368c3",
   "metadata": {},
   "outputs": [
    {
     "data": {
      "text/html": [
       "<div>\n",
       "<style scoped>\n",
       "    .dataframe tbody tr th:only-of-type {\n",
       "        vertical-align: middle;\n",
       "    }\n",
       "\n",
       "    .dataframe tbody tr th {\n",
       "        vertical-align: top;\n",
       "    }\n",
       "\n",
       "    .dataframe thead th {\n",
       "        text-align: right;\n",
       "    }\n",
       "</style>\n",
       "<table border=\"1\" class=\"dataframe\">\n",
       "  <thead>\n",
       "    <tr style=\"text-align: right;\">\n",
       "      <th></th>\n",
       "      <th>_id</th>\n",
       "      <th>bias</th>\n",
       "      <th>prec</th>\n",
       "      <th>temp</th>\n",
       "      <th>delay</th>\n",
       "    </tr>\n",
       "  </thead>\n",
       "  <tbody>\n",
       "    <tr>\n",
       "      <th>35</th>\n",
       "      <td>O70012_0</td>\n",
       "      <td>1.0</td>\n",
       "      <td>0.0</td>\n",
       "      <td>37.2</td>\n",
       "      <td>62.0</td>\n",
       "    </tr>\n",
       "    <tr>\n",
       "      <th>36</th>\n",
       "      <td>O70012_0</td>\n",
       "      <td>1.0</td>\n",
       "      <td>0.004</td>\n",
       "      <td>36.6</td>\n",
       "      <td>62.0</td>\n",
       "    </tr>\n",
       "    <tr>\n",
       "      <th>37</th>\n",
       "      <td>O70012_0</td>\n",
       "      <td>1.0</td>\n",
       "      <td>0.004</td>\n",
       "      <td>37.2</td>\n",
       "      <td>-11.0</td>\n",
       "    </tr>\n",
       "    <tr>\n",
       "      <th>38</th>\n",
       "      <td>O70012_0</td>\n",
       "      <td>1.0</td>\n",
       "      <td>0.0</td>\n",
       "      <td>37.2</td>\n",
       "      <td>62.0</td>\n",
       "    </tr>\n",
       "    <tr>\n",
       "      <th>39</th>\n",
       "      <td>O70012_0</td>\n",
       "      <td>1.0</td>\n",
       "      <td>0.0</td>\n",
       "      <td>38.0</td>\n",
       "      <td>25.0</td>\n",
       "    </tr>\n",
       "    <tr>\n",
       "      <th>40</th>\n",
       "      <td>O70012_0</td>\n",
       "      <td>1.0</td>\n",
       "      <td>0.0</td>\n",
       "      <td>36.7</td>\n",
       "      <td>25.0</td>\n",
       "    </tr>\n",
       "    <tr>\n",
       "      <th>41</th>\n",
       "      <td>O70012_0</td>\n",
       "      <td>1.0</td>\n",
       "      <td>0.0</td>\n",
       "      <td>37.0</td>\n",
       "      <td>25.0</td>\n",
       "    </tr>\n",
       "  </tbody>\n",
       "</table>\n",
       "</div>"
      ],
      "text/plain": [
       "         _id bias   prec  temp  delay\n",
       "35  O70012_0  1.0    0.0  37.2   62.0\n",
       "36  O70012_0  1.0  0.004  36.6   62.0\n",
       "37  O70012_0  1.0  0.004  37.2  -11.0\n",
       "38  O70012_0  1.0    0.0  37.2   62.0\n",
       "39  O70012_0  1.0    0.0  38.0   25.0\n",
       "40  O70012_0  1.0    0.0  36.7   25.0\n",
       "41  O70012_0  1.0    0.0  37.0   25.0"
      ]
     },
     "execution_count": 3457,
     "metadata": {},
     "output_type": "execute_result"
    }
   ],
   "source": [
    "ruggles = df[df[\"_id\"] == \"O70012_0\"]\n",
    "ruggles"
   ]
  },
  {
   "cell_type": "code",
   "execution_count": null,
   "id": "d3dd1533-ccf3-4918-985d-4576f3f54eab",
   "metadata": {},
   "outputs": [],
   "source": []
  },
  {
   "cell_type": "code",
   "execution_count": 3113,
   "id": "cec9b795-cdc7-4b2a-84ff-7bd7954c7838",
   "metadata": {},
   "outputs": [],
   "source": [
    "# df.to_csv(\"mbta_weather.csv\",index=False)"
   ]
  },
  {
   "cell_type": "code",
   "execution_count": null,
   "id": "ca7d9a61-c538-43f3-add9-24d01332021e",
   "metadata": {},
   "outputs": [],
   "source": []
  },
  {
   "cell_type": "markdown",
   "id": "8d023b41-3653-40d9-a995-da2ee35e1d66",
   "metadata": {},
   "source": [
    "# imports"
   ]
  },
  {
   "cell_type": "code",
   "execution_count": 1,
   "id": "f4e32326-cd14-4daf-8e36-e608110af237",
   "metadata": {},
   "outputs": [],
   "source": [
    "import numpy as np\n",
    "import pandas as pd\n",
    "import matplotlib.pyplot as plt"
   ]
  },
  {
   "cell_type": "markdown",
   "id": "592f00c6-7dac-46f3-9387-de1d70243bf5",
   "metadata": {},
   "source": [
    "# data"
   ]
  },
  {
   "cell_type": "code",
   "execution_count": 2842,
   "id": "e174f379-57b8-4117-ba37-fa94410480f8",
   "metadata": {},
   "outputs": [],
   "source": [
    "\"\"\"\n",
    "x: weather data (3xN) (april 1st until now)\n",
    "[[percip1, percip2, percip3, percip4],\n",
    " [temp1,   temp2,   ...]\n",
    " [bias1,   bias2,   ...]]\n",
    "\n",
    "y: mbta delays  (1xN) (april 1st until now)\n",
    "[[delay1,  delay2,  ...]]\n",
    "includes non-delays.\n",
    "\"\"\";"
   ]
  },
  {
   "cell_type": "code",
   "execution_count": 3262,
   "id": "9596ea43-3342-4750-8021-261a1cb60f49",
   "metadata": {},
   "outputs": [],
   "source": [
    "# x_noid = x_noid.astype(float)"
   ]
  },
  {
   "cell_type": "code",
   "execution_count": 3264,
   "id": "ab5a3c16-f250-48c2-abfc-281bac70ec52",
   "metadata": {},
   "outputs": [],
   "source": [
    "# y_noid = y_noid.astype(float)"
   ]
  },
  {
   "cell_type": "code",
   "execution_count": 3266,
   "id": "129cdd3c-dea5-49c8-895a-2af309fdc368",
   "metadata": {},
   "outputs": [],
   "source": [
    "# x_noid.shape"
   ]
  },
  {
   "cell_type": "code",
   "execution_count": 3284,
   "id": "8f7d8213-7c3c-40cb-8ca3-6962d52af01e",
   "metadata": {},
   "outputs": [],
   "source": [
    "spt = pd.read_csv(r\"C:\\Users\\Overl\\DS4420\\assets\\HW4\\ds4420_spotify.csv\")"
   ]
  },
  {
   "cell_type": "code",
   "execution_count": 3290,
   "id": "b3e52a15-b2ef-477a-85a4-40e402661bff",
   "metadata": {},
   "outputs": [],
   "source": [
    "spt = spt[[\"release_month\",\"release_year\",\"artist_pop\",\"track_pop\",\"duration_s\",\"explicit\"]]"
   ]
  },
  {
   "cell_type": "code",
   "execution_count": 3302,
   "id": "0ab5dcbd-a0b5-4e26-8312-ec276c97c627",
   "metadata": {},
   "outputs": [],
   "source": [
    "x = spt[[\"release_month\",\"release_year\",\"artist_pop\",\"duration_s\",\"explicit\"]].to_numpy()"
   ]
  },
  {
   "cell_type": "code",
   "execution_count": 3304,
   "id": "b9aefc7e-eecc-4ffd-9781-ee0777c2f7d0",
   "metadata": {},
   "outputs": [],
   "source": [
    "y = spt[\"track_pop\"].to_numpy()"
   ]
  },
  {
   "cell_type": "code",
   "execution_count": null,
   "id": "e0f0c607-91d3-475b-88b0-4983d9329988",
   "metadata": {},
   "outputs": [],
   "source": []
  },
  {
   "cell_type": "markdown",
   "id": "58070d89-2653-415d-9963-c746d10f9717",
   "metadata": {},
   "source": [
    "# pointers\n",
    "(set pointers for x_train, x_test, y_train, y_test)"
   ]
  },
  {
   "cell_type": "code",
   "execution_count": 3164,
   "id": "f8aa3c02-26d3-4a78-90a1-907f5b342a2e",
   "metadata": {},
   "outputs": [],
   "source": [
    "# overwrite when ready.....\n",
    "x_train = x_noid[:-200]\n",
    "x_test  = x_noid[-200:]\n",
    "y_train = y_noid[:-200]\n",
    "y_test  = y_noid[-200:]"
   ]
  },
  {
   "cell_type": "code",
   "execution_count": 8,
   "id": "250e9003-e5a3-4276-8bc2-e8ea4de8cc10",
   "metadata": {},
   "outputs": [],
   "source": [
    "# x = np.ones((3,10))\n",
    "# y = np.ones((1,10))"
   ]
  },
  {
   "cell_type": "code",
   "execution_count": 9,
   "id": "d07397f1-682d-423c-ab50-3a64de5f3b22",
   "metadata": {},
   "outputs": [
    {
     "data": {
      "text/plain": [
       "array([[ 1,  2,  3,  4,  5,  6,  7,  8,  9,  0],\n",
       "       [12,  1, -3, 22,  3, -1,  2, 31, 31,  0],\n",
       "       [ 1,  1,  1,  1,  1,  1,  1,  1,  1,  1]])"
      ]
     },
     "execution_count": 9,
     "metadata": {},
     "output_type": "execute_result"
    }
   ],
   "source": [
    "x = np.array([\n",
    "     1, 2, 3, 4, 5, 6, 7, 8, 9, 0,\n",
    "    12, 1,-3,22, 3,-1, 2,31,31, 0,\n",
    "     1, 1, 1, 1, 1, 1, 1, 1, 1, 1,\n",
    "]).reshape(3,-1)\n",
    "x"
   ]
  },
  {
   "cell_type": "code",
   "execution_count": 10,
   "id": "be4754c3-eb24-4b98-8d21-513e11becd13",
   "metadata": {},
   "outputs": [
    {
     "data": {
      "text/plain": [
       "array([[ 1.73479592,  3.80050051,  6.01862263,  7.87977243,  9.68051088,\n",
       "        11.75259277, 13.68534001, 15.83761103, 17.70600538, -0.29470625]])"
      ]
     },
     "execution_count": 10,
     "metadata": {},
     "output_type": "execute_result"
    }
   ],
   "source": [
    "y = 2*x[0,:] + np.random.normal(0,0.25,10).reshape(1,-1)\n",
    "y"
   ]
  },
  {
   "cell_type": "code",
   "execution_count": null,
   "id": "a5ea9414-17ee-4091-9b5c-8f3f8225f902",
   "metadata": {},
   "outputs": [],
   "source": []
  },
  {
   "cell_type": "markdown",
   "id": "38131b9d-305c-4b2d-b3b5-2d9d6a84f423",
   "metadata": {},
   "source": [
    "# define MLP"
   ]
  },
  {
   "cell_type": "code",
   "execution_count": 2882,
   "id": "fd28f343-ffdc-4027-9fc8-43eb3f4a4119",
   "metadata": {},
   "outputs": [],
   "source": [
    "class AbstractAF:\n",
    "    \"\"\"Abstract Activation Function.\n",
    "    This is an abstract class used to represent\n",
    "    activation functions in a MultiLayer Perceptitron.\n",
    "\n",
    "    Each Activation function must have a name\n",
    "    and implement the following three functions:\n",
    "    - fw(w,x)         represents a forward pass through the MLP\n",
    "    - bp_w(w,x)       represents a dL/dw backprop through the MLP\n",
    "    - bp_x(w,x)       represents a dL/dh backprop through the MLP <- TODO look into this.....\n",
    "\n",
    "    This class does not implement any of the three functions.\n",
    "    Child-classes MUST implement all three functions for \n",
    "    backprop to work properly.\n",
    "\n",
    "    In the current implementation, the following classes are the only valid subclasses:\n",
    "    - LinearAF\n",
    "    - ReluAF\n",
    "    \"\"\"\n",
    "    def __init__(self):\n",
    "        self.name = \"Abstract\"\n",
    "\n",
    "    def __repr__(self):\n",
    "        \"\"\"Overwrites the representation with class name.\n",
    "        This function makes the print look cleaner :) \n",
    "        \"\"\"\n",
    "        return f\"<ActivationFunction:{self.name}>\"\n",
    "    \n",
    "    def fw(self,w,x):\n",
    "        raise NotImplementedError(\"Abstract Class cannot run functions.  Please use a subclass.\")\n",
    "\n",
    "    def bp_w(self,w,x):\n",
    "        raise NotImplementedError(\"Abstract Class cannot run functions.  Please use a subclass.\")\n",
    "\n",
    "    def bp_x(self,w,x):\n",
    "        raise NotImplementedError(\"Abstract Class cannot run functions.  Please use a subclass.\")\n",
    "\n",
    "class MeanSquaredErrorAF(AbstractAF):\n",
    "    \"\"\"Mean Squared Error function\"\"\"\n",
    "    def __init__(self):\n",
    "        super().__init__()\n",
    "        self.name = \"MSE\"\n",
    "        self.axis = 0\n",
    "\n",
    "    def fw(self,f,y):\n",
    "        return   np.mean((f-y)**2,axis=1).item()\n",
    "\n",
    "    def bp(self,f,y):\n",
    "        return 2*np.mean((f-y),   axis=self.axis)\n",
    "\n",
    "class LinearAF(AbstractAF):\n",
    "    \"\"\"Linear Activation Function\"\"\"\n",
    "    def __init__(self):\n",
    "        super().__init__()\n",
    "        self.name = \"Linear\"\n",
    "    \n",
    "    def fw(self,w,x):\n",
    "        return w.T.dot(x)\n",
    "\n",
    "    def bp_w(self,w,x):\n",
    "        return x\n",
    "\n",
    "    def bp_x(self,w,x):\n",
    "        return w\n",
    "\n",
    "class ReluAF(AbstractAF):\n",
    "    \"\"\"Relu Activation Function\"\"\"\n",
    "    def __init__(self):\n",
    "        super().__init__()\n",
    "        self.name = \"Relu\"\n",
    "        \n",
    "    def fw(self,w,x):\n",
    "        return np.maximum(0,w.T.dot(x))\n",
    "\n",
    "    def bp_w(self,w,x):\n",
    "        print(\"wtx:\",(w.T.dot(x) > 0).shape)\n",
    "        print(\"x:\",x.shape,\"(expected)\")\n",
    "        return x.dot((w.T.dot(x) > 0).T)\n",
    "\n",
    "    def bp_x(self,w,x):\n",
    "        print(\"wtx:\",(w.T.dot(x) > 0).shape)\n",
    "        print(\"w:\",w.shape,\"(expected)\")\n",
    "        return (w).dot(w.T.dot(x) > 0)"
   ]
  },
  {
   "cell_type": "code",
   "execution_count": 2899,
   "id": "96e0b1c1-da22-4d31-9563-9c46b5f72c44",
   "metadata": {},
   "outputs": [],
   "source": [
    "class MLP:\n",
    "    \"\"\"MultiLayer Perceptron\n",
    "    Implementation Notes:\n",
    "    - input and output layers must be defined explicitly.\n",
    "    \"\"\"\n",
    "    def __init__(self):\n",
    "        self.layers  = []\n",
    "        self.weights = []\n",
    "        self.loss = MeanSquaredErrorAF()\n",
    "\n",
    "    def add_layer(self,nodes:int,afunc:AbstractAF) -> None:\n",
    "        \"\"\"Adds a layer with a given number of nodes\n",
    "        and a given Abstract Function\"\"\"\n",
    "        self.layers.append(MLPLayer(nodes,afunc))\n",
    "\n",
    "    def _init_weights(self) -> None:\n",
    "        \"\"\"Initialize weights based on added layers\"\"\"\n",
    "        assert len(self.layers) > 1, \"layers must be added\"\n",
    "\n",
    "        # reset weights matrix\n",
    "        self.weights = []\n",
    "\n",
    "        # get the shape based on existing layers\n",
    "        for i in range(1,len(self.layers)):\n",
    "            w_shape = (self.layers[i-1].get_nodes(),\n",
    "                       self.layers[i  ].get_nodes())\n",
    "            self.weights.append(np.ones(w_shape)*0.01)\n",
    "\n",
    "    def fw(self,x:np.array):\n",
    "        \"\"\"Performs a forward pass from\n",
    "        x through n hidden layers to f_w(x)\n",
    "        by applying an activation function \n",
    "        for each layer in the MLP.\n",
    "\n",
    "        The function also initializes weight\n",
    "        dimensions, if not done so already.\n",
    "\n",
    "        Given the input example:\n",
    "        x_ample = np.ones((3,n))\n",
    "        \n",
    "        each column would represent a sample\n",
    "        ie: \n",
    "        > x_ample[:,0]   would be the 1st sample\n",
    "        > x_ample[:,1]   would be the 2nd sample\n",
    "        > x_ample[:,n-1] would be the nth sample\n",
    "        etc.\n",
    "        \n",
    "        each row would represent a variable\n",
    "        ie:\n",
    "        > x_ample[0,:] would be the 1st parameter\n",
    "        > x_ample[1,:] would be the 2nd parameter\n",
    "        > x_ample[2,:] would be the 3rd parameter\n",
    "        etc.\n",
    "\n",
    "        The output of this function will generally take the shape:\n",
    "        (m,n) where n is the number of columns in the input array\n",
    "        and m is the number of node is the final layer in this MLP.\n",
    "        In this case, we are predicting one value, how late the\n",
    "        MBTA will be, and therefore m will always be 1.\n",
    "        \"\"\"\n",
    "\n",
    "        # init weights if not yet done\n",
    "        if len(self.weights) == 0:\n",
    "            self._init_weights()\n",
    "\n",
    "        # initialize x as the hidden value\n",
    "        # of layer 0 (the input layer)\n",
    "        self.layers[0].h = x\n",
    "\n",
    "        # loop through and update x iteratively:\n",
    "        for i in range(1,len(self.layers)):\n",
    "            x = self.layers[i].fw(self.weights[i-1],x)\n",
    "\n",
    "        # return x\n",
    "        return x\n",
    "    \n",
    "    def _bp_list_factors(self,ridx,debug:bool=False):\n",
    "        \"\"\"Gets a list of factors to\n",
    "        generate the corresponding\n",
    "        weight matrix.\n",
    "        \n",
    "        ridx is the reversed index:\n",
    "        - 0 refers to the last element\n",
    "        - 1 refers to the 2nd to last element\n",
    "        etc.\n",
    "        \"\"\"\n",
    "        reversed_weights = list(reversed(self.weights))\n",
    "        reversed_layers  = list(reversed(self.layers))\n",
    "\n",
    "        # store factors to prod later \n",
    "        prod_factors = []\n",
    "\n",
    "        # loop through the layers add dh\n",
    "        for i in range(ridx):\n",
    "            if debug:\n",
    "                print(f\"\"\"iteration:[{i}]:\\n\n",
    "                layer.h: {reversed_layers[i+1].h.shape}\\n\n",
    "                weight : {reversed_weights[i].shape}\\n\n",
    "                dotable: {...}\\n\n",
    "                \"\"\")\n",
    "            \n",
    "            # print(f\"{reversed_layers[i+1]}.bp_x(...); shape:{reversed_weights[i].shape}\")\n",
    "            prod_factors.append(reversed_layers[i+1].bp_x(reversed_weights[i]))\n",
    "\n",
    "        # add dw\n",
    "        # print(f\"{reversed_layers[ridx+1]}.bp_w(...); shape:{reversed_weights[ridx].shape}\")\n",
    "        prod_factors.append(reversed_layers[ridx+1].bp_w(reversed_weights[ridx]))\n",
    "\n",
    "        # return factors\n",
    "        return prod_factors\n",
    "\n",
    "    def _bp_dot(self,bp_list,loss,debug:bool=False):\n",
    "        \"\"\"bp_list is the list generated from _bp_list_factors()\n",
    "        loss is the VALUES of loss as a matrix\n",
    "        \"\"\"\n",
    "        prod_dh = loss.copy()\n",
    "    \n",
    "        # ignore the last value b/c it's dw not dh\n",
    "        for i in range(len(bp_list) - 1):\n",
    "            # perform a cumulative dot product\n",
    "            # starting from back:\n",
    "            if debug:\n",
    "                print(f\"\"\"iteration:[{i}]:\\n\n",
    "                bp_list: {bp_list[i].shape}\\n\n",
    "                prod_dh: {prod_dh.shape}\\n\n",
    "                dotable: {bp_list[i][1]==prod_dh.shape[0]}\\n\n",
    "                \"\"\")\n",
    "                \n",
    "            try:\n",
    "                prod_dh = bp_list[i].dot(prod_dh)\n",
    "            except:\n",
    "                prod_dh = bp_list[i] * (prod_dh)\n",
    "            \n",
    "    \n",
    "        # dot dw with the prod_dh transpose\n",
    "        dldw = bp_list[-1].dot(prod_dh.T)\n",
    "        return dldw\n",
    "    \n",
    "    def gd(self,\n",
    "           x:np.array,\n",
    "           y:np.array,\n",
    "           eta:float=0.1,\n",
    "           iters:int=10,\n",
    "           debug:bool=False\n",
    "          ):\n",
    "        # list of errors?\n",
    "        ls_mse = []\n",
    "        \n",
    "        for i in range(iters):\n",
    "            # compute the fwd pass\n",
    "            fwp = self.fw(x)\n",
    "            # compute the loss\n",
    "            fwl = self.loss.fw(f=fwp,y=y)\n",
    "            bpl = self.loss.bp(f=fwp,y=y).reshape(1,-1)\n",
    "            for fidx in range(len(self.weights)):\n",
    "                ridx = len(self.weights) - fidx - 1\n",
    "                bpd = self._bp_dot(self._bp_list_factors(fidx),bpl,debug=debug)\n",
    "                    \n",
    "                if debug:\n",
    "                    print(f\"shape match: {self.weights[ridx].shape == bpd.shape}\")\n",
    "                    print(f\"    self.weights[{ridx}]\",self.weights[ridx].shape)\n",
    "                    print(f\"    self._bp_dot[{ridx}]\",bpd.shape)\n",
    "\n",
    "                if bpd.shape == self.weights[ridx].shape:\n",
    "                    # overwrite the weights if the shapes match:\n",
    "                    self.weights[ridx] = (self.weights[ridx] - eta * bpd)\n",
    "                else:\n",
    "                    # throw error otherwise\n",
    "                    raise Exception(\"invalid weight shape\"+\n",
    "                                    f\"expected{self.weights[ridx].shape}; got{bpd.shape}\")\n",
    "            \n",
    "            ls_mse.append(fwl)\n",
    "        return ls_mse"
   ]
  },
  {
   "cell_type": "code",
   "execution_count": 2901,
   "id": "90c87d14-0beb-4c19-91a3-1891889c1618",
   "metadata": {},
   "outputs": [],
   "source": [
    "class MLPLayer:\n",
    "    \"\"\"Represents a single layer in the MLP.\n",
    "    \n",
    "    \"\"\"\n",
    "    def __init__(self,nodes,afunc):\n",
    "        self.nodes = int(nodes)\n",
    "        self.afunc = afunc\n",
    "        self.h = None\n",
    "\n",
    "    def __repr__(self):\n",
    "        \"\"\"overwrite representation for pretty print\"\"\"\n",
    "        return \"<MLPLayer: {nodes:\"+f\"{self.nodes},afunc:{self.afunc}\"+\"}>\"\n",
    "\n",
    "    def get_nodes(self):\n",
    "        return self.nodes+0\n",
    "\n",
    "    def fw(self,w:np.array,x:np.array):\n",
    "        \"\"\"store and return the\n",
    "        post-activation values \n",
    "        of a forward pass.\"\"\"\n",
    "        self.h = self.afunc.fw(w=w,x=x)\n",
    "        return self.h.copy()\n",
    "\n",
    "    def bp_w(self,w:np.array):\n",
    "        return self.afunc.bp_w(w=w,x=self.h)\n",
    "\n",
    "    def bp_x(self,w:np.array):\n",
    "        return self.afunc.bp_x(w=w,x=self.h)"
   ]
  },
  {
   "cell_type": "code",
   "execution_count": null,
   "id": "358e27cb-e92f-4d4a-8551-e1f23d4c3a85",
   "metadata": {},
   "outputs": [],
   "source": []
  },
  {
   "cell_type": "code",
   "execution_count": 2904,
   "id": "af2dd9e7-7209-4116-a737-e55420c2ef1b",
   "metadata": {},
   "outputs": [
    {
     "data": {
      "text/plain": [
       "array([[ 1,  2,  3,  4,  5,  6,  7,  8,  9,  0],\n",
       "       [12,  1, -3, 22,  3, -1,  2, 31, 31,  0],\n",
       "       [ 1,  1,  1,  1,  1,  1,  1,  1,  1,  1]])"
      ]
     },
     "execution_count": 2904,
     "metadata": {},
     "output_type": "execute_result"
    }
   ],
   "source": [
    "x"
   ]
  },
  {
   "cell_type": "code",
   "execution_count": 2906,
   "id": "a66ecf29-8de4-40cc-9b4c-a93c92b0e4fd",
   "metadata": {},
   "outputs": [
    {
     "data": {
      "text/plain": [
       "array([[ 1.73479592,  3.80050051,  6.01862263,  7.87977243,  9.68051088,\n",
       "        11.75259277, 13.68534001, 15.83761103, 17.70600538, -0.29470625]])"
      ]
     },
     "execution_count": 2906,
     "metadata": {},
     "output_type": "execute_result"
    }
   ],
   "source": [
    "y"
   ]
  },
  {
   "cell_type": "code",
   "execution_count": 2908,
   "id": "a5871c55-7f64-4b59-ab2c-2966f756462d",
   "metadata": {},
   "outputs": [],
   "source": [
    "def assertweights(mlp):\n",
    "    assert mlp.weights[0].shape == (3,4)\n",
    "    assert mlp.weights[1].shape == (4,5)\n",
    "    assert mlp.weights[2].shape == (5,1)"
   ]
  },
  {
   "cell_type": "code",
   "execution_count": 2910,
   "id": "9e46e966-db94-4254-8eed-2372d7a63f72",
   "metadata": {},
   "outputs": [],
   "source": [
    "def assertlayers(mlp):\n",
    "    assert mlp.layers[0].h.shape == (3,10)\n",
    "    assert mlp.layers[1].h.shape == (4,10)\n",
    "    assert mlp.layers[2].h.shape == (5,10)\n",
    "    assert mlp.layers[3].h.shape == (1,10)"
   ]
  },
  {
   "cell_type": "code",
   "execution_count": 2916,
   "id": "51cffb62-7b04-44ab-9b89-c9c1cec3cd32",
   "metadata": {},
   "outputs": [],
   "source": [
    "mlp = MLP()\n",
    "mlp.add_layer(3,LinearAF()) # input x\n",
    "mlp.add_layer(4,LinearAF())   # hidden layer #1\n",
    "mlp.add_layer(5,LinearAF())   # hidden layer #2\n",
    "mlp.add_layer(1,ReluAF())   # prediction f_w(x)\n",
    "mlp._init_weights()\n",
    "\n",
    "# assert weight shape\n",
    "assertweights(mlp)\n",
    "\n",
    "# run fw pass and assert shapes:\n",
    "mlp.fw(x)\n",
    "\n",
    "# assert weights / matricies shape\n",
    "assertweights(mlp)\n",
    "assertlayers(mlp)\n",
    "\n",
    "# print(\"# product list for w2\")\n",
    "# bplf0 = mlp._bp_list_factors(0)\n",
    "# assert len(bplf0) == 1\n",
    "# assert bplf0[0].shape == (5,10), \\\n",
    "# f\"\"\"expected: {(5,10)}; got: {bplf0[0].shape}\\n\"\"\"   # takes shape of h\n",
    "\n",
    "# print(\"# product list for w1\")\n",
    "# bplf1 = mlp._bp_list_factors(1)\n",
    "# assert len(bplf1) == 2\n",
    "# assert bplf1[0].shape == (5,1),  \\\n",
    "# f\"\"\"expected: {(5,1)};  got: { bplf1[0].shape}\\n\"\"\"  # takes shape of w\n",
    "# assert bplf1[1].shape == (4,10), \\\n",
    "# f\"\"\"expected: {(4,10)}; got: { bplf1[1].shape}\\n\"\"\"  # takes shape of h\n",
    "\n",
    "# print(\"# product list for w0\")\n",
    "# bplf2 = mlp._bp_list_factors(2)\n",
    "# assert len(bplf2) == 3\n",
    "# assert bplf2[0].shape == (5,1),  \\\n",
    "# f\"\"\"expected: {(5,1)};  got: { bplf2[0].shape}\\n\"\"\"  # takes shape of w\n",
    "# assert bplf2[1].shape == (4,5),  \\\n",
    "# f\"\"\"expected: {(4,1)};  got: { bplf2[1].shape}\\n\"\"\"  # takes shape of w\n",
    "# assert bplf2[2].shape == (3,10), \\\n",
    "# f\"\"\"expected: {(3,10)}; got: { bplf2[2].shape}\\n\"\"\"  # takes shape of h\n",
    "\n",
    "err = mlp.gd(x,y,eta=0.0001,iters=1000,debug=False)"
   ]
  },
  {
   "cell_type": "code",
   "execution_count": 2918,
   "id": "53608c64-3b2c-49da-9526-98f79d57cc6e",
   "metadata": {},
   "outputs": [
    {
     "data": {
      "text/plain": [
       "Text(0, 0.5, 'Log Loss Error')"
      ]
     },
     "execution_count": 2918,
     "metadata": {},
     "output_type": "execute_result"
    },
    {
     "data": {
      "image/png": "[encoded data removed]",
      "text/plain": [
       "<Figure size 640x480 with 1 Axes>"
      ]
     },
     "metadata": {},
     "output_type": "display_data"
    }
   ],
   "source": [
    "# plot the change in error over iterations\n",
    "plt.plot(err)\n",
    "plt.title(\"MSE of MLP vs Epochs\")\n",
    "plt.xlabel(\"Epochs\")\n",
    "plt.ylabel(\"Log Loss Error\")"
   ]
  },
  {
   "cell_type": "code",
   "execution_count": null,
   "id": "7dffc64f-27f1-4c49-b773-871c50e37e86",
   "metadata": {},
   "outputs": [],
   "source": []
  },
  {
   "cell_type": "code",
   "execution_count": null,
   "id": "3ad881fb-f018-4736-a37f-5c72495c2768",
   "metadata": {},
   "outputs": [],
   "source": []
  },
  {
   "cell_type": "code",
   "execution_count": null,
   "id": "c74cdab6-ff5e-404d-ac3c-320523c85225",
   "metadata": {},
   "outputs": [],
   "source": []
  },
  {
   "cell_type": "code",
   "execution_count": 2870,
   "id": "7437b82d-f1fe-4856-a27c-54249191bcde",
   "metadata": {},
   "outputs": [
    {
     "data": {
      "text/plain": [
       "(5, 1)"
      ]
     },
     "execution_count": 2870,
     "metadata": {},
     "output_type": "execute_result"
    }
   ],
   "source": [
    "mlp._bp_list_factors(1)[0].shape"
   ]
  },
  {
   "cell_type": "code",
   "execution_count": 2821,
   "id": "1ad8ad21-2a93-4342-83c2-7e7b29ee5a74",
   "metadata": {},
   "outputs": [
    {
     "data": {
      "text/plain": [
       "(4, 10)"
      ]
     },
     "execution_count": 2821,
     "metadata": {},
     "output_type": "execute_result"
    }
   ],
   "source": [
    "mlp._bp_list_factors(1)[1].shape"
   ]
  },
  {
   "cell_type": "code",
   "execution_count": null,
   "id": "c9d73bb9-52b2-41c4-8da7-88383b5ee75a",
   "metadata": {},
   "outputs": [],
   "source": []
  },
  {
   "cell_type": "code",
   "execution_count": 2824,
   "id": "92ea327e-7872-400f-b3be-265d5c045c49",
   "metadata": {},
   "outputs": [],
   "source": [
    "mlp.gd(x,y,eta=0.0002,iters=1000,debug=False);"
   ]
  },
  {
   "cell_type": "code",
   "execution_count": 2844,
   "id": "5e97ec6a-97b8-40f0-bf98-0ce153661d87",
   "metadata": {},
   "outputs": [
    {
     "data": {
      "text/plain": [
       "array([[19.67337392, 29.49631076,  0.        ]])"
      ]
     },
     "execution_count": 2844,
     "metadata": {},
     "output_type": "execute_result"
    }
   ],
   "source": [
    "x_test = np.array([10,15,-1,\n",
    "                   22,-1, 3,\n",
    "                    1, 1, 1,]).reshape(3,-1)\n",
    "# expect y_test to be ~20, ~30, -2\n",
    "\n",
    "mlp.fw(x_test)"
   ]
  },
  {
   "cell_type": "code",
   "execution_count": null,
   "id": "503a5d13-787a-4a87-a8f1-593fab789e8b",
   "metadata": {},
   "outputs": [],
   "source": []
  },
  {
   "cell_type": "code",
   "execution_count": 2829,
   "id": "205442f4-ad85-41bd-9683-cbf9961b6369",
   "metadata": {},
   "outputs": [
    {
     "data": {
      "text/plain": [
       "[array([[ 8.68199078e-01,  8.68199078e-01,  8.68199078e-01,\n",
       "          8.68199078e-01],\n",
       "        [ 5.83538476e-04,  5.83538476e-04,  5.83538476e-04,\n",
       "          5.83538476e-04],\n",
       "        [-2.75651652e-02, -2.75651652e-02, -2.75651652e-02,\n",
       "         -2.75651652e-02]]),\n",
       " array([[0.27259008, 0.27259008, 0.27259008, 0.27259008, 0.27259008],\n",
       "        [0.27259008, 0.27259008, 0.27259008, 0.27259008, 0.27259008],\n",
       "        [0.27259008, 0.27259008, 0.27259008, 0.27259008, 0.27259008],\n",
       "        [0.27259008, 0.27259008, 0.27259008, 0.27259008, 0.27259008]]),\n",
       " array([[0.41634832],\n",
       "        [0.41634832],\n",
       "        [0.41634832],\n",
       "        [0.41634832],\n",
       "        [0.41634832]])]"
      ]
     },
     "execution_count": 2829,
     "metadata": {},
     "output_type": "execute_result"
    }
   ],
   "source": [
    "mlp.weights"
   ]
  },
  {
   "cell_type": "code",
   "execution_count": null,
   "id": "d79ee0d8-91d1-4e51-b008-dbc73628767a",
   "metadata": {},
   "outputs": [],
   "source": []
  },
  {
   "cell_type": "code",
   "execution_count": 3400,
   "id": "8542210a-4920-48ef-ab4a-859c4c93286f",
   "metadata": {},
   "outputs": [],
   "source": [
    "mlp = MLP()\n",
    "mlp.add_layer(5,LinearAF()) # input x\n",
    "mlp.add_layer(10,LinearAF())   # hidden layer #1\n",
    "mlp.add_layer(20,LinearAF())   # hidden layer #2\n",
    "mlp.add_layer(1,ReluAF())   # prediction f_w(x)\n",
    "mlp._init_weights()\n",
    "\n",
    "e_list = mlp.gd(x.T,y.T,\n",
    "                eta=0.00000001,\n",
    "                iters=10000,debug=False)"
   ]
  },
  {
   "cell_type": "code",
   "execution_count": 3401,
   "id": "786206eb-0c20-4c79-8cc5-1d602b322651",
   "metadata": {},
   "outputs": [
    {
     "data": {
      "text/plain": [
       "[array([[0.017391338867137857, 0.017391338867137857, 0.017391338867137857,\n",
       "         0.017391338867137857, 0.017391338867137857, 0.017391338867137857,\n",
       "         0.017391338867137857, 0.017391338867137857, 0.017391338867137857,\n",
       "         0.017391338867137857],\n",
       "        [0.012550057332243666, 0.012550057332243666, 0.012550057332243666,\n",
       "         0.012550057332243666, 0.012550057332243666, 0.012550057332243666,\n",
       "         0.012550057332243666, 0.012550057332243666, 0.012550057332243666,\n",
       "         0.012550057332243666],\n",
       "        [0.35331307752737123, 0.35331307752737123, 0.35331307752737123,\n",
       "         0.35331307752737123, 0.35331307752737123, 0.35331307752737123,\n",
       "         0.35331307752737123, 0.35331307752737123, 0.35331307752737123,\n",
       "         0.35331307752737123],\n",
       "        [0.0009346986986028467, 0.0009346986986028467,\n",
       "         0.0009346986986028467, 0.0009346986986028467,\n",
       "         0.0009346986986028467, 0.0009346986986028467,\n",
       "         0.0009346986986028467, 0.0009346986986028467,\n",
       "         0.0009346986986028467, 0.0009346986986028467],\n",
       "        [0.01097049090782007, 0.01097049090782007, 0.01097049090782007,\n",
       "         0.01097049090782007, 0.01097049090782007, 0.01097049090782007,\n",
       "         0.01097049090782007, 0.01097049090782007, 0.01097049090782007,\n",
       "         0.01097049090782007]], dtype=object),\n",
       " array([[0.0480171622847757, 0.0480171622847757, 0.0480171622847757,\n",
       "         0.0480171622847757, 0.0480171622847757, 0.0480171622847757,\n",
       "         0.0480171622847757, 0.0480171622847757, 0.0480171622847757,\n",
       "         0.0480171622847757, 0.0480171622847757, 0.0480171622847757,\n",
       "         0.0480171622847757, 0.0480171622847757, 0.0480171622847757,\n",
       "         0.0480171622847757, 0.0480171622847757, 0.0480171622847757,\n",
       "         0.0480171622847757, 0.0480171622847757],\n",
       "        [0.0480171622847757, 0.0480171622847757, 0.0480171622847757,\n",
       "         0.0480171622847757, 0.0480171622847757, 0.0480171622847757,\n",
       "         0.0480171622847757, 0.0480171622847757, 0.0480171622847757,\n",
       "         0.0480171622847757, 0.0480171622847757, 0.0480171622847757,\n",
       "         0.0480171622847757, 0.0480171622847757, 0.0480171622847757,\n",
       "         0.0480171622847757, 0.0480171622847757, 0.0480171622847757,\n",
       "         0.0480171622847757, 0.0480171622847757],\n",
       "        [0.0480171622847757, 0.0480171622847757, 0.0480171622847757,\n",
       "         0.0480171622847757, 0.0480171622847757, 0.0480171622847757,\n",
       "         0.0480171622847757, 0.0480171622847757, 0.0480171622847757,\n",
       "         0.0480171622847757, 0.0480171622847757, 0.0480171622847757,\n",
       "         0.0480171622847757, 0.0480171622847757, 0.0480171622847757,\n",
       "         0.0480171622847757, 0.0480171622847757, 0.0480171622847757,\n",
       "         0.0480171622847757, 0.0480171622847757],\n",
       "        [0.0480171622847757, 0.0480171622847757, 0.0480171622847757,\n",
       "         0.0480171622847757, 0.0480171622847757, 0.0480171622847757,\n",
       "         0.0480171622847757, 0.0480171622847757, 0.0480171622847757,\n",
       "         0.0480171622847757, 0.0480171622847757, 0.0480171622847757,\n",
       "         0.0480171622847757, 0.0480171622847757, 0.0480171622847757,\n",
       "         0.0480171622847757, 0.0480171622847757, 0.0480171622847757,\n",
       "         0.0480171622847757, 0.0480171622847757],\n",
       "        [0.0480171622847757, 0.0480171622847757, 0.0480171622847757,\n",
       "         0.0480171622847757, 0.0480171622847757, 0.0480171622847757,\n",
       "         0.0480171622847757, 0.0480171622847757, 0.0480171622847757,\n",
       "         0.0480171622847757, 0.0480171622847757, 0.0480171622847757,\n",
       "         0.0480171622847757, 0.0480171622847757, 0.0480171622847757,\n",
       "         0.0480171622847757, 0.0480171622847757, 0.0480171622847757,\n",
       "         0.0480171622847757, 0.0480171622847757],\n",
       "        [0.0480171622847757, 0.0480171622847757, 0.0480171622847757,\n",
       "         0.0480171622847757, 0.0480171622847757, 0.0480171622847757,\n",
       "         0.0480171622847757, 0.0480171622847757, 0.0480171622847757,\n",
       "         0.0480171622847757, 0.0480171622847757, 0.0480171622847757,\n",
       "         0.0480171622847757, 0.0480171622847757, 0.0480171622847757,\n",
       "         0.0480171622847757, 0.0480171622847757, 0.0480171622847757,\n",
       "         0.0480171622847757, 0.0480171622847757],\n",
       "        [0.0480171622847757, 0.0480171622847757, 0.0480171622847757,\n",
       "         0.0480171622847757, 0.0480171622847757, 0.0480171622847757,\n",
       "         0.0480171622847757, 0.0480171622847757, 0.0480171622847757,\n",
       "         0.0480171622847757, 0.0480171622847757, 0.0480171622847757,\n",
       "         0.0480171622847757, 0.0480171622847757, 0.0480171622847757,\n",
       "         0.0480171622847757, 0.0480171622847757, 0.0480171622847757,\n",
       "         0.0480171622847757, 0.0480171622847757],\n",
       "        [0.0480171622847757, 0.0480171622847757, 0.0480171622847757,\n",
       "         0.0480171622847757, 0.0480171622847757, 0.0480171622847757,\n",
       "         0.0480171622847757, 0.0480171622847757, 0.0480171622847757,\n",
       "         0.0480171622847757, 0.0480171622847757, 0.0480171622847757,\n",
       "         0.0480171622847757, 0.0480171622847757, 0.0480171622847757,\n",
       "         0.0480171622847757, 0.0480171622847757, 0.0480171622847757,\n",
       "         0.0480171622847757, 0.0480171622847757],\n",
       "        [0.0480171622847757, 0.0480171622847757, 0.0480171622847757,\n",
       "         0.0480171622847757, 0.0480171622847757, 0.0480171622847757,\n",
       "         0.0480171622847757, 0.0480171622847757, 0.0480171622847757,\n",
       "         0.0480171622847757, 0.0480171622847757, 0.0480171622847757,\n",
       "         0.0480171622847757, 0.0480171622847757, 0.0480171622847757,\n",
       "         0.0480171622847757, 0.0480171622847757, 0.0480171622847757,\n",
       "         0.0480171622847757, 0.0480171622847757],\n",
       "        [0.0480171622847757, 0.0480171622847757, 0.0480171622847757,\n",
       "         0.0480171622847757, 0.0480171622847757, 0.0480171622847757,\n",
       "         0.0480171622847757, 0.0480171622847757, 0.0480171622847757,\n",
       "         0.0480171622847757, 0.0480171622847757, 0.0480171622847757,\n",
       "         0.0480171622847757, 0.0480171622847757, 0.0480171622847757,\n",
       "         0.0480171622847757, 0.0480171622847757, 0.0480171622847757,\n",
       "         0.0480171622847757, 0.0480171622847757]], dtype=object),\n",
       " array([[0.14185202566888508],\n",
       "        [0.14185202566888508],\n",
       "        [0.14185202566888508],\n",
       "        [0.14185202566888508],\n",
       "        [0.14185202566888508],\n",
       "        [0.14185202566888508],\n",
       "        [0.14185202566888508],\n",
       "        [0.14185202566888508],\n",
       "        [0.14185202566888508],\n",
       "        [0.14185202566888508],\n",
       "        [0.14185202566888508],\n",
       "        [0.14185202566888508],\n",
       "        [0.14185202566888508],\n",
       "        [0.14185202566888508],\n",
       "        [0.14185202566888508],\n",
       "        [0.14185202566888508],\n",
       "        [0.14185202566888508],\n",
       "        [0.14185202566888508],\n",
       "        [0.14185202566888508],\n",
       "        [0.14185202566888508]], dtype=object)]"
      ]
     },
     "execution_count": 3401,
     "metadata": {},
     "output_type": "execute_result"
    }
   ],
   "source": [
    "mlp.weights"
   ]
  },
  {
   "cell_type": "code",
   "execution_count": 3402,
   "id": "8f90cc80-5d0f-4864-a29e-a3aafe07628f",
   "metadata": {},
   "outputs": [
    {
     "data": {
      "text/plain": [
       "Text(0, 0.5, 'MSE Error')"
      ]
     },
     "execution_count": 3402,
     "metadata": {},
     "output_type": "execute_result"
    },
    {
     "data": {
      "image/png": "[encoded data removed]",
      "text/plain": [
       "<Figure size 640x480 with 1 Axes>"
      ]
     },
     "metadata": {},
     "output_type": "display_data"
    }
   ],
   "source": [
    "# plot the change in error over iterations\n",
    "plt.plot(e_list)\n",
    "plt.title(\"MSE of MLP vs Epochs\")\n",
    "plt.xlabel(\"Epochs\")\n",
    "plt.ylabel(\"MSE Error\")"
   ]
  },
  {
   "cell_type": "code",
   "execution_count": 3406,
   "id": "6369e440-df90-431d-9e02-74a8ec329e2c",
   "metadata": {},
   "outputs": [
    {
     "data": {
      "text/plain": [
       "[4054.8251259128865,\n",
       " 355.7145960379102,\n",
       " 354.35352616223497,\n",
       " 352.89704779708075,\n",
       " 351.2853828307253,\n",
       " 349.4354222179997,\n",
       " 347.22281063102355,\n",
       " 344.4501949983576,\n",
       " 340.78986087342855,\n",
       " 335.683353714475,\n",
       " 328.1863528197139,\n",
       " 316.8018732144638,\n",
       " 299.53349705840384,\n",
       " 274.8730747441704,\n",
       " 261.6125903042836,\n",
       " 265.80794272204236,\n",
       " 252.67281363345518,\n",
       " 239.958663265376,\n",
       " 245.26711978093056,\n",
       " 232.93872529003144]"
      ]
     },
     "execution_count": 3406,
     "metadata": {},
     "output_type": "execute_result"
    }
   ],
   "source": [
    "e_list[0:-1:500]"
   ]
  },
  {
   "cell_type": "code",
   "execution_count": 3408,
   "id": "9ff04c9b-bf95-405e-8ca3-53ce902a6120",
   "metadata": {},
   "outputs": [],
   "source": [
    "y_pred = mlp.fw(x.T)"
   ]
  },
  {
   "cell_type": "code",
   "execution_count": 3410,
   "id": "ea17cd45-c80d-4133-aef5-7bd169f419cc",
   "metadata": {},
   "outputs": [
    {
     "data": {
      "text/plain": [
       "(1, 158)"
      ]
     },
     "execution_count": 3410,
     "metadata": {},
     "output_type": "execute_result"
    }
   ],
   "source": [
    "y_pred.shape"
   ]
  },
  {
   "cell_type": "code",
   "execution_count": 3412,
   "id": "6e36320d-b098-4937-bf13-2fa7367515ef",
   "metadata": {},
   "outputs": [
    {
     "data": {
      "text/plain": [
       "(158,)"
      ]
     },
     "execution_count": 3412,
     "metadata": {},
     "output_type": "execute_result"
    }
   ],
   "source": [
    "y.shape"
   ]
  },
  {
   "cell_type": "code",
   "execution_count": 3414,
   "id": "7af5a0e2-c98b-43ea-9718-c5660d5efc4e",
   "metadata": {},
   "outputs": [],
   "source": [
    "y_pred = y_pred.astype(float).flatten()"
   ]
  },
  {
   "cell_type": "code",
   "execution_count": 3416,
   "id": "c8a24875-d9b0-4106-b6a5-894dc24cc69f",
   "metadata": {},
   "outputs": [
    {
     "data": {
      "text/plain": [
       "array([73, 19, 71, 80, 80, 61, 64, 76, 68, 63, 85, 38, 62, 71, 75, 76, 62,\n",
       "       75, 36, 39, 59, 64, 76, 67, 81, 54, 73, 77, 59, 92, 40, 53, 61, 77,\n",
       "       67, 24, 47, 72, 53, 33, 77, 88, 51, 71, 62, 40, 63, 81, 65, 84, 24,\n",
       "       73, 81, 51, 65, 57, 50, 34, 77, 57, 53, 82, 72, 75, 59, 74, 67, 49,\n",
       "       72, 54, 64, 42, 41, 66, 45, 88, 68, 86, 72, 75, 70, 57, 83, 59, 83,\n",
       "       49, 22, 60, 17, 18, 62, 56, 48, 66, 75, 44, 65, 55, 72, 10, 28, 68,\n",
       "       96,  7, 65, 72,  0, 47, 89, 65, 21, 55, 83, 51, 40, 72, 49, 60, 56,\n",
       "       75, 73, 70, 75, 79, 54, 41, 53, 63, 74, 18, 74, 58, 69, 12, 53, 75,\n",
       "       39, 75, 58, 52, 56, 45, 96, 64, 68, 96, 67, 78, 79, 63, 66, 78, 53,\n",
       "       72, 84, 73, 73, 77], dtype=int64)"
      ]
     },
     "execution_count": 3416,
     "metadata": {},
     "output_type": "execute_result"
    }
   ],
   "source": [
    "y.flatten()"
   ]
  },
  {
   "cell_type": "code",
   "execution_count": null,
   "id": "4ca89f28-1fac-4f84-a850-9159308a52e8",
   "metadata": {},
   "outputs": [],
   "source": []
  },
  {
   "cell_type": "code",
   "execution_count": null,
   "id": "b8137ff8-dbdc-431d-8a21-1582a156c2f8",
   "metadata": {},
   "outputs": [],
   "source": []
  },
  {
   "cell_type": "code",
   "execution_count": null,
   "id": "1168e5f3-6dcf-4b54-8dc5-410c81a5aa24",
   "metadata": {},
   "outputs": [],
   "source": []
  },
  {
   "cell_type": "code",
   "execution_count": 3418,
   "id": "9b92678a-ce82-4086-8d88-5020e86f0ed7",
   "metadata": {},
   "outputs": [
    {
     "data": {
      "text/plain": [
       "array([[1.        , 0.67236657],\n",
       "       [0.67236657, 1.        ]])"
      ]
     },
     "execution_count": 3418,
     "metadata": {},
     "output_type": "execute_result"
    }
   ],
   "source": [
    "np.corrcoef(y_pred.flatten(),y.flatten())"
   ]
  },
  {
   "cell_type": "code",
   "execution_count": null,
   "id": "11d7a64c-2d2f-46de-8244-fb5d3d6315b6",
   "metadata": {},
   "outputs": [],
   "source": []
  },
  {
   "cell_type": "code",
   "execution_count": null,
   "id": "2c0d82f9-596a-4cb2-8e26-23a25a64be69",
   "metadata": {},
   "outputs": [],
   "source": []
  },
  {
   "cell_type": "code",
   "execution_count": 2832,
   "id": "b5d9d283-a3c6-4f3c-83c7-87d884867573",
   "metadata": {},
   "outputs": [
    {
     "data": {
      "text/plain": [
       "[<MLPLayer: {nodes:3,afunc:<ActivationFunction:Linear>}>,\n",
       " <MLPLayer: {nodes:4,afunc:<ActivationFunction:Linear>}>,\n",
       " <MLPLayer: {nodes:5,afunc:<ActivationFunction:Linear>}>,\n",
       " <MLPLayer: {nodes:1,afunc:<ActivationFunction:Relu>}>]"
      ]
     },
     "execution_count": 2832,
     "metadata": {},
     "output_type": "execute_result"
    }
   ],
   "source": [
    "test_layers = mlp.layers.copy()\n",
    "test_layers"
   ]
  },
  {
   "cell_type": "code",
   "execution_count": 2834,
   "id": "a90d89e8-4bf2-4d8c-9dd8-88fc34c7ffa4",
   "metadata": {},
   "outputs": [
    {
     "data": {
      "text/plain": [
       "[array([[ 8.68199078e-01,  8.68199078e-01,  8.68199078e-01,\n",
       "          8.68199078e-01],\n",
       "        [ 5.83538476e-04,  5.83538476e-04,  5.83538476e-04,\n",
       "          5.83538476e-04],\n",
       "        [-2.75651652e-02, -2.75651652e-02, -2.75651652e-02,\n",
       "         -2.75651652e-02]]),\n",
       " array([[0.27259008, 0.27259008, 0.27259008, 0.27259008, 0.27259008],\n",
       "        [0.27259008, 0.27259008, 0.27259008, 0.27259008, 0.27259008],\n",
       "        [0.27259008, 0.27259008, 0.27259008, 0.27259008, 0.27259008],\n",
       "        [0.27259008, 0.27259008, 0.27259008, 0.27259008, 0.27259008]]),\n",
       " array([[0.41634832],\n",
       "        [0.41634832],\n",
       "        [0.41634832],\n",
       "        [0.41634832],\n",
       "        [0.41634832]])]"
      ]
     },
     "execution_count": 2834,
     "metadata": {},
     "output_type": "execute_result"
    }
   ],
   "source": [
    "test_weights = mlp.weights.copy()\n",
    "test_weights"
   ]
  },
  {
   "cell_type": "code",
   "execution_count": null,
   "id": "120d3cd5-42e9-4489-a1f8-33cf342f8665",
   "metadata": {},
   "outputs": [],
   "source": [
    "def test_bp(ridx):\n",
    "    \"\"\"ridx is the reversed index:\n",
    "    - 0 refers to the last element\n",
    "    - 1 refers to the 2nd to last element\n",
    "    etc.\n",
    "    \"\"\"\n",
    "    reversed_weights = list(reversed(test_weights))\n",
    "    reversed_layers  = list(reversed(test_weights))\n",
    "    \n",
    "    prod_factors = []\n",
    "    \n",
    "    for i in range(ridx):\n",
    "        prod_factors.append(f\"reversed_layers[{i}].bp_x(...)\")\n",
    "\n",
    "    prod_factors.append(f\"reversed_layers[{ridx}].bp_w(...)\")\n",
    "    return prod_factors"
   ]
  },
  {
   "cell_type": "code",
   "execution_count": null,
   "id": "405560f2-1a32-4c8d-9608-89ef6a75a4e3",
   "metadata": {},
   "outputs": [],
   "source": [
    "test_bp(0)"
   ]
  },
  {
   "cell_type": "code",
   "execution_count": null,
   "id": "378e79d6-492c-495c-9f55-1cbfab8a69df",
   "metadata": {},
   "outputs": [],
   "source": [
    "test_bp(1)"
   ]
  },
  {
   "cell_type": "code",
   "execution_count": null,
   "id": "667b034d-abc8-4e36-b253-a6bbaf51bd8f",
   "metadata": {},
   "outputs": [],
   "source": [
    "test_bp(2)"
   ]
  },
  {
   "cell_type": "code",
   "execution_count": null,
   "id": "74ef240b-1444-4978-a78b-8102143a8cd0",
   "metadata": {},
   "outputs": [],
   "source": [
    "test_bp(3)"
   ]
  },
  {
   "cell_type": "code",
   "execution_count": null,
   "id": "a15a0077-f670-430d-a6eb-399ed6a332d9",
   "metadata": {},
   "outputs": [],
   "source": []
  },
  {
   "cell_type": "code",
   "execution_count": null,
   "id": "e0a84cd8-4cdd-4260-8750-cc2a892c1a07",
   "metadata": {},
   "outputs": [],
   "source": [
    "list(reversed(test_weights))"
   ]
  },
  {
   "cell_type": "code",
   "execution_count": null,
   "id": "f773b123-bfa9-43b5-b491-d98d43b53a1f",
   "metadata": {},
   "outputs": [],
   "source": [
    "for i in range(5):\n",
    "    print(i)"
   ]
  },
  {
   "cell_type": "code",
   "execution_count": null,
   "id": "7d16951a-86e9-4f67-8768-64b3474f2398",
   "metadata": {},
   "outputs": [],
   "source": [
    "for i in range(0):\n",
    "    print(i)"
   ]
  },
  {
   "cell_type": "code",
   "execution_count": null,
   "id": "7c16ff88-989c-4445-89f7-e875961fce52",
   "metadata": {},
   "outputs": [],
   "source": []
  },
  {
   "cell_type": "code",
   "execution_count": null,
   "id": "0638a579-5966-4a06-95bf-928e518984c5",
   "metadata": {},
   "outputs": [],
   "source": [
    "for i in range(10):\n",
    "    print(10-1-i)"
   ]
  },
  {
   "cell_type": "code",
   "execution_count": 2685,
   "id": "050e4343-28dd-415c-ad86-0f8753d18a41",
   "metadata": {},
   "outputs": [
    {
     "data": {
      "text/plain": [
       "array([[0.0026, 0.0006, 0.    , 0.0052, 0.0016, 0.001 , 0.0018, 0.0078,\n",
       "        0.008 , 0.    ]])"
      ]
     },
     "execution_count": 2685,
     "metadata": {},
     "output_type": "execute_result"
    }
   ],
   "source": [
    "mlp = MLP()\n",
    "mlp.add_layer(2,LinearAF()) # input x\n",
    "mlp.add_layer(2,ReluAF())   # hidden layer #1\n",
    "mlp.add_layer(1,LinearAF())   # prediction f_w(x)\n",
    "mlp._init_weights()\n",
    "\n",
    "# run fw pass and assert shapes:\n",
    "mlp.fw(x[:2,])"
   ]
  },
  {
   "cell_type": "code",
   "execution_count": 2687,
   "id": "0d02f25a-fbbf-4844-a48d-a1a8dd5b28bc",
   "metadata": {},
   "outputs": [
    {
     "data": {
      "text/plain": [
       "[array([[0.01, 0.01],\n",
       "        [0.01, 0.01]]),\n",
       " array([[0.01],\n",
       "        [0.01]])]"
      ]
     },
     "execution_count": 2687,
     "metadata": {},
     "output_type": "execute_result"
    }
   ],
   "source": [
    "mlp.weights"
   ]
  },
  {
   "cell_type": "code",
   "execution_count": 2689,
   "id": "3ca796f5-9891-4d0c-9d66-c867db4cea26",
   "metadata": {},
   "outputs": [
    {
     "data": {
      "text/plain": [
       "[<MLPLayer: {nodes:2,afunc:<ActivationFunction:Linear>}>,\n",
       " <MLPLayer: {nodes:2,afunc:<ActivationFunction:Relu>}>,\n",
       " <MLPLayer: {nodes:1,afunc:<ActivationFunction:Linear>}>]"
      ]
     },
     "execution_count": 2689,
     "metadata": {},
     "output_type": "execute_result"
    }
   ],
   "source": [
    "mlp.layers"
   ]
  },
  {
   "cell_type": "code",
   "execution_count": 2691,
   "id": "8fb11d3a-acc7-45ff-bb25-6c36811d55c5",
   "metadata": {},
   "outputs": [],
   "source": [
    "def bp_fw_list(idx,loss):\n",
    "    \"\"\"Use the \"forward index\"\n",
    "    to procure the derivative\n",
    "    of a weight.\"\"\"\n",
    "    weight = mlp.weights[idx]\n",
    "    wshape = weight.shape\n",
    "    \n",
    "    # init list and append loss\n",
    "    bp_list = []\n",
    "    bp_list.append(loss) # 1xn\n",
    "    if idx == len(mlp.weights) - 1:\n",
    "        bp_list.append(mlp.layers[idx].h.T)\n",
    "    if idx == len(mlp.weights) - 2:\n",
    "        bp_list.append(mlp.weights[idx])\n",
    "        bp_list.append(mlp.layers[idx-1].h.T)\n",
    "\n",
    "    return bp_list"
   ]
  },
  {
   "cell_type": "code",
   "execution_count": 2769,
   "id": "0fb16148-8f3a-4c9c-8a26-b0c561ac4adb",
   "metadata": {},
   "outputs": [
    {
     "data": {
      "text/plain": [
       "[array([[1., 1., 1., 1., 1., 1., 1., 1., 1., 1.]]),\n",
       " array([[0.27259008, 0.27259008, 0.27259008, 0.27259008, 0.27259008],\n",
       "        [0.27259008, 0.27259008, 0.27259008, 0.27259008, 0.27259008],\n",
       "        [0.27259008, 0.27259008, 0.27259008, 0.27259008, 0.27259008],\n",
       "        [0.27259008, 0.27259008, 0.27259008, 0.27259008, 0.27259008]]),\n",
       " array([[10, 22,  1],\n",
       "        [15, -1,  1],\n",
       "        [-1,  3,  1]])]"
      ]
     },
     "execution_count": 2769,
     "metadata": {},
     "output_type": "execute_result"
    }
   ],
   "source": [
    "bp_fw_list(1,np.ones((1,10))) # get w2"
   ]
  },
  {
   "cell_type": "code",
   "execution_count": 2771,
   "id": "86a85123-acd5-4614-97b4-15460a9f9dfe",
   "metadata": {},
   "outputs": [
    {
     "data": {
      "text/plain": [
       "[array([[1., 1., 1., 1., 1., 1., 1., 1., 1., 1.]])]"
      ]
     },
     "execution_count": 2771,
     "metadata": {},
     "output_type": "execute_result"
    }
   ],
   "source": [
    "bp0 = bp_fw_list(0,np.ones((1,10))) # get w1\n",
    "bp0"
   ]
  },
  {
   "cell_type": "code",
   "execution_count": null,
   "id": "6506487c-352c-48ab-9895-3d2267b97b8e",
   "metadata": {},
   "outputs": [],
   "source": []
  },
  {
   "cell_type": "code",
   "execution_count": null,
   "id": "1c43da3d-43d2-47c6-a0d2-d689588efefb",
   "metadata": {},
   "outputs": [],
   "source": []
  },
  {
   "cell_type": "code",
   "execution_count": null,
   "id": "9964d202-309c-4970-a5d1-499c2666849a",
   "metadata": {},
   "outputs": [],
   "source": []
  },
  {
   "cell_type": "code",
   "execution_count": null,
   "id": "6ba54607-4b1e-410a-ab8f-267c5d99e1df",
   "metadata": {},
   "outputs": [],
   "source": []
  },
  {
   "cell_type": "code",
   "execution_count": null,
   "id": "069f8c16-efa1-46a5-ad46-6177de77334b",
   "metadata": {},
   "outputs": [],
   "source": []
  },
  {
   "cell_type": "code",
   "execution_count": null,
   "id": "b77b4836-f1a0-4c4f-84fe-dacfc74cf6f2",
   "metadata": {},
   "outputs": [],
   "source": []
  }
 ],
 "metadata": {
  "kernelspec": {
   "display_name": "Python 3 (ipykernel)",
   "language": "python",
   "name": "python3"
  },
  "language_info": {
   "codemirror_mode": {
    "name": "ipython",
    "version": 3
   },
   "file_extension": ".py",
   "mimetype": "text/x-python",
   "name": "python",
   "nbconvert_exporter": "python",
   "pygments_lexer": "ipython3",
   "version": "3.11.7"
  }
 },
 "nbformat": 4,
 "nbformat_minor": 5
}
