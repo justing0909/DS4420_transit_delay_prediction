{
 "cells": [
  {
   "cell_type": "markdown",
   "id": "8d023b41-3653-40d9-a995-da2ee35e1d66",
   "metadata": {},
   "source": [
    "# imports"
   ]
  },
  {
   "cell_type": "code",
   "execution_count": 2,
   "id": "f4e32326-cd14-4daf-8e36-e608110af237",
   "metadata": {},
   "outputs": [],
   "source": [
    "import numpy as np\n",
    "import pandas as pd\n",
    "import matplotlib.pyplot as plt\n",
    "import sklearn.preprocessing\n",
    "import random"
   ]
  },
  {
   "cell_type": "code",
   "execution_count": 3,
   "id": "97c45929-9b83-4411-aeef-0c3a4a20e9dd",
   "metadata": {},
   "outputs": [],
   "source": [
    "np.random.seed(0)"
   ]
  },
  {
   "cell_type": "markdown",
   "id": "592f00c6-7dac-46f3-9387-de1d70243bf5",
   "metadata": {},
   "source": [
    "# import data"
   ]
  },
  {
   "cell_type": "code",
   "execution_count": 5,
   "id": "e174f379-57b8-4117-ba37-fa94410480f8",
   "metadata": {},
   "outputs": [],
   "source": [
    "\"\"\"\n",
    "x: weather data (3xN) (april 1st until now)\n",
    "[[percip1, percip2, percip3, percip4],\n",
    " [temp1,   temp2,   ...]\n",
    " [bias1,   bias2,   ...]]\n",
    "\n",
    "y: mbta delays  (1xN) (april 1st until now)\n",
    "[[delay1,  delay2,  ...]]\n",
    "includes non-delays.\n",
    "\"\"\";"
   ]
  },
  {
   "cell_type": "code",
   "execution_count": null,
   "id": "710e993b-3562-447d-b00f-cf7cfd644b08",
   "metadata": {},
   "outputs": [],
   "source": []
  },
  {
   "cell_type": "code",
   "execution_count": 6,
   "id": "8f7d8213-7c3c-40cb-8ca3-6962d52af01e",
   "metadata": {},
   "outputs": [],
   "source": [
    "# read csv and keep certain cols\n",
    "spt = pd.read_csv(r\"C:\\Users\\Overl\\DS4420\\assets\\HW4\\ds4420_spotify.csv\")\n",
    "spt = spt[[\"release_month\",\"release_year\",\"artist_pop\",\"track_pop\",\"duration_s\",\"explicit\"]]"
   ]
  },
  {
   "cell_type": "code",
   "execution_count": 7,
   "id": "3fa530f1-3b23-405c-82a5-09f6a688f3d4",
   "metadata": {},
   "outputs": [],
   "source": [
    "def df_scaler(df,cols):\n",
    "    df = df.copy(deep=True)\n",
    "    scaler = sklearn.preprocessing.StandardScaler()\n",
    "    df.loc[:,cols] = scaler.fit_transform(df[cols])\n",
    "    return df"
   ]
  },
  {
   "cell_type": "code",
   "execution_count": 8,
   "id": "f40457d0-d8bd-4cb1-a092-abb13733dddd",
   "metadata": {},
   "outputs": [],
   "source": [
    "spt = df_scaler(spt,cols = [\"release_month\",\n",
    "                            \"release_year\",\n",
    "                            \"artist_pop\",\n",
    "                            \"duration_s\"])"
   ]
  },
  {
   "cell_type": "code",
   "execution_count": 9,
   "id": "0ab5dcbd-a0b5-4e26-8312-ec276c97c627",
   "metadata": {},
   "outputs": [],
   "source": [
    "# explicitly define x\n",
    "x = spt[[\"release_month\",\"release_year\",\"artist_pop\",\"duration_s\",\"explicit\"]]\n",
    "\n",
    "# add bias column to x\n",
    "x[\"bias\"] = np.ones(x.shape[0])\n",
    "\n",
    "# convert x to numpy\n",
    "x = x.to_numpy()"
   ]
  },
  {
   "cell_type": "code",
   "execution_count": 10,
   "id": "d04f8568-a566-4059-8dc0-0d9f5c8f50f9",
   "metadata": {},
   "outputs": [],
   "source": [
    "# explicitly define y\n",
    "y = spt[\"track_pop\"].to_numpy()"
   ]
  },
  {
   "cell_type": "code",
   "execution_count": null,
   "id": "e0f0c607-91d3-475b-88b0-4983d9329988",
   "metadata": {},
   "outputs": [],
   "source": []
  },
  {
   "cell_type": "markdown",
   "id": "58070d89-2653-415d-9963-c746d10f9717",
   "metadata": {},
   "source": [
    "# pointers\n",
    "(set pointers for x_train, x_test, y_train, y_test)"
   ]
  },
  {
   "cell_type": "code",
   "execution_count": 12,
   "id": "f8aa3c02-26d3-4a78-90a1-907f5b342a2e",
   "metadata": {},
   "outputs": [],
   "source": [
    "def tt_idx(y,train_percent:float):\n",
    "    y_len = len(y)\n",
    "    # get random non-repeating \n",
    "    # values for unique indicies:\n",
    "    train_idx = random.sample(range(y_len),\n",
    "                              int(y_len*train_percent))\n",
    "    \n",
    "    # store train vs test in dict\n",
    "    tt_idx_dict = {\n",
    "        \"train\":list(filter(lambda x: \n",
    "                            x in train_idx,\n",
    "                            range(y_len))),\n",
    "        \"test\": list(filter(lambda x: \n",
    "                            x not in train_idx,\n",
    "                            range(y_len)))\n",
    "    }\n",
    "    \n",
    "    # return dict\n",
    "    return tt_idx_dict"
   ]
  },
  {
   "cell_type": "code",
   "execution_count": 54,
   "id": "c10302b8-9a68-425f-90ef-cc447da0ddf9",
   "metadata": {},
   "outputs": [],
   "source": [
    "tt_dict = tt_idx(y,0.7)\n",
    "train_idx = tt_dict[\"train\"]\n",
    "test_idx  = tt_dict[\"test\"]"
   ]
  },
  {
   "cell_type": "code",
   "execution_count": 14,
   "id": "a5ea9414-17ee-4091-9b5c-8f3f8225f902",
   "metadata": {},
   "outputs": [],
   "source": [
    "x_train = x[train_idx]\n",
    "y_train = y[train_idx]\n",
    "x_test  = x[test_idx]\n",
    "y_test  = y[test_idx]"
   ]
  },
  {
   "cell_type": "markdown",
   "id": "38131b9d-305c-4b2d-b3b5-2d9d6a84f423",
   "metadata": {},
   "source": [
    "# define MLP"
   ]
  },
  {
   "cell_type": "code",
   "execution_count": 16,
   "id": "fd28f343-ffdc-4027-9fc8-43eb3f4a4119",
   "metadata": {},
   "outputs": [],
   "source": [
    "class AbstractAF:\n",
    "    \"\"\"Abstract Activation Function.\n",
    "    This is an abstract class used to represent\n",
    "    activation functions in a MultiLayer Perceptitron.\n",
    "\n",
    "    Each Activation function must have a name\n",
    "    and implement the following three functions:\n",
    "    - fw(w,x)         represents a forward pass through the MLP\n",
    "    - bp_w(w,x)       represents a dL/dw backprop through the MLP\n",
    "    - bp_x(w,x)       represents a dL/dh backprop through the MLP <- TODO look into this.....\n",
    "\n",
    "    This class does not implement any of the three functions.\n",
    "    Child-classes MUST implement all three functions for \n",
    "    backprop to work properly.\n",
    "\n",
    "    In the current implementation, the following classes are the only valid subclasses:\n",
    "    - LinearAF\n",
    "    - ReluAF\n",
    "    \"\"\"\n",
    "    def __init__(self):\n",
    "        self.name = \"Abstract\"\n",
    "\n",
    "    def __repr__(self):\n",
    "        \"\"\"Overwrites the representation with class name.\n",
    "        This function makes the print look cleaner :) \n",
    "        \"\"\"\n",
    "        return f\"<ActivationFunction:{self.name}>\"\n",
    "    \n",
    "    def fw(self,w,x):\n",
    "        raise NotImplementedError(\"Abstract Class cannot run functions.  Please use a subclass.\")\n",
    "\n",
    "    def bp_w(self,w,x):\n",
    "        raise NotImplementedError(\"Abstract Class cannot run functions.  Please use a subclass.\")\n",
    "\n",
    "    def bp_x(self,w,x):\n",
    "        raise NotImplementedError(\"Abstract Class cannot run functions.  Please use a subclass.\")\n",
    "\n",
    "class MeanSquaredErrorAF(AbstractAF):\n",
    "    \"\"\"Mean Squared Error function\"\"\"\n",
    "    def __init__(self):\n",
    "        super().__init__()\n",
    "        self.name = \"MSE\"\n",
    "        self.axis = 0\n",
    "\n",
    "    def fw(self,f,y):\n",
    "        return   np.mean((f-y)**2,axis=1).item()\n",
    "\n",
    "    def bp(self,f,y):\n",
    "        return 2*np.mean((f-y),   axis=self.axis)\n",
    "\n",
    "class LinearAF(AbstractAF):\n",
    "    \"\"\"Linear Activation Function\"\"\"\n",
    "    def __init__(self):\n",
    "        super().__init__()\n",
    "        self.name = \"Linear\"\n",
    "    \n",
    "    def fw(self,w,x):\n",
    "        return w.T.dot(x)\n",
    "\n",
    "    def bp_w(self,w,x):\n",
    "        return x\n",
    "\n",
    "    def bp_x(self,w,x):\n",
    "        return w\n",
    "\n",
    "class ReluAF(AbstractAF):\n",
    "    \"\"\"Relu Activation Function\"\"\"\n",
    "    def __init__(self):\n",
    "        super().__init__()\n",
    "        self.name = \"Relu\"\n",
    "        \n",
    "    def fw(self,w,x):\n",
    "        return np.maximum(0,w.T.dot(x))\n",
    "\n",
    "    def bp_w(self,w,x):\n",
    "        print(\"wtx:\",(w.T.dot(x) > 0).shape)\n",
    "        print(\"x:\",x.shape,\"(expected)\")\n",
    "        return x.dot((w.T.dot(x) > 0).T)\n",
    "\n",
    "    def bp_x(self,w,x):\n",
    "        print(\"wtx:\",(w.T.dot(x) > 0).shape)\n",
    "        print(\"w:\",w.shape,\"(expected)\")\n",
    "        return (w).dot(w.T.dot(x) > 0)"
   ]
  },
  {
   "cell_type": "code",
   "execution_count": 17,
   "id": "96e0b1c1-da22-4d31-9563-9c46b5f72c44",
   "metadata": {},
   "outputs": [],
   "source": [
    "class MLP:\n",
    "    \"\"\"MultiLayer Perceptron\n",
    "    Implementation Notes:\n",
    "    - input and output layers must be defined explicitly.\n",
    "    \"\"\"\n",
    "    def __init__(self):\n",
    "        self.layers  = []\n",
    "        self.weights = []\n",
    "        self.loss = MeanSquaredErrorAF()\n",
    "\n",
    "    def add_layer(self,nodes:int,afunc:AbstractAF) -> None:\n",
    "        \"\"\"Adds a layer with a given number of nodes\n",
    "        and a given Abstract Function\"\"\"\n",
    "        self.layers.append(MLPLayer(nodes,afunc))\n",
    "\n",
    "    def _init_weights(self) -> None:\n",
    "        \"\"\"Initialize weights based on added layers\"\"\"\n",
    "        assert len(self.layers) > 1, \"layers must be added\"\n",
    "\n",
    "        # reset weights matrix\n",
    "        self.weights = []\n",
    "\n",
    "        # get the shape based on existing layers\n",
    "        for i in range(1,len(self.layers)):\n",
    "            w_shape = (self.layers[i-1].get_nodes(),\n",
    "                       self.layers[i  ].get_nodes())\n",
    "            self.weights.append(np.ones(w_shape)*0.01)\n",
    "\n",
    "    def fw(self,x:np.array):\n",
    "        \"\"\"Performs a forward pass from\n",
    "        x through n hidden layers to f_w(x)\n",
    "        by applying an activation function \n",
    "        for each layer in the MLP.\n",
    "\n",
    "        The function also initializes weight\n",
    "        dimensions, if not done so already.\n",
    "\n",
    "        Given the input example:\n",
    "        x_ample = np.ones((3,n))\n",
    "        \n",
    "        each column would represent a sample\n",
    "        ie: \n",
    "        > x_ample[:,0]   would be the 1st sample\n",
    "        > x_ample[:,1]   would be the 2nd sample\n",
    "        > x_ample[:,n-1] would be the nth sample\n",
    "        etc.\n",
    "        \n",
    "        each row would represent a variable\n",
    "        ie:\n",
    "        > x_ample[0,:] would be the 1st parameter\n",
    "        > x_ample[1,:] would be the 2nd parameter\n",
    "        > x_ample[2,:] would be the 3rd parameter\n",
    "        etc.\n",
    "\n",
    "        The output of this function will generally take the shape:\n",
    "        (m,n) where n is the number of columns in the input array\n",
    "        and m is the number of node is the final layer in this MLP.\n",
    "        In this case, we are predicting one value, how late the\n",
    "        MBTA will be, and therefore m will always be 1.\n",
    "        \"\"\"\n",
    "\n",
    "        # init weights if not yet done\n",
    "        if len(self.weights) == 0:\n",
    "            self._init_weights()\n",
    "\n",
    "        # initialize x as the hidden value\n",
    "        # of layer 0 (the input layer)\n",
    "        self.layers[0].h = x\n",
    "\n",
    "        # loop through and update x iteratively:\n",
    "        for i in range(1,len(self.layers)):\n",
    "            x = self.layers[i].fw(self.weights[i-1],x)\n",
    "\n",
    "        # return x\n",
    "        return x\n",
    "    \n",
    "    def _bp_list_factors(self,ridx,debug:bool=False):\n",
    "        \"\"\"Gets a list of factors to\n",
    "        generate the corresponding\n",
    "        weight matrix.\n",
    "        \n",
    "        ridx is the reversed index:\n",
    "        - 0 refers to the last element\n",
    "        - 1 refers to the 2nd to last element\n",
    "        etc.\n",
    "        \"\"\"\n",
    "        reversed_weights = list(reversed(self.weights))\n",
    "        reversed_layers  = list(reversed(self.layers))\n",
    "\n",
    "        # store factors to prod later \n",
    "        prod_factors = []\n",
    "\n",
    "        # loop through the layers add dh\n",
    "        for i in range(ridx):\n",
    "            if debug:\n",
    "                print(f\"\"\"iteration:[{i}]:\\n\n",
    "                layer.h: {reversed_layers[i+1].h.shape}\\n\n",
    "                weight : {reversed_weights[i].shape}\\n\n",
    "                dotable: {...}\\n\n",
    "                \"\"\")\n",
    "            \n",
    "            # print(f\"{reversed_layers[i+1]}.bp_x(...); shape:{reversed_weights[i].shape}\")\n",
    "            prod_factors.append(reversed_layers[i+1].bp_x(reversed_weights[i]))\n",
    "\n",
    "        # add dw\n",
    "        # print(f\"{reversed_layers[ridx+1]}.bp_w(...); shape:{reversed_weights[ridx].shape}\")\n",
    "        prod_factors.append(reversed_layers[ridx+1].bp_w(reversed_weights[ridx]))\n",
    "\n",
    "        # return factors\n",
    "        return prod_factors\n",
    "\n",
    "    def _bp_dot(self,bp_list,loss,debug:bool=False):\n",
    "        \"\"\"bp_list is the list generated from _bp_list_factors()\n",
    "        loss is the VALUES of loss as a matrix\n",
    "        \"\"\"\n",
    "        prod_dh = loss.copy()\n",
    "    \n",
    "        # ignore the last value b/c it's dw not dh\n",
    "        for i in range(len(bp_list) - 1):\n",
    "            # perform a cumulative dot product\n",
    "            # starting from back:\n",
    "            if debug:\n",
    "                print(f\"\"\"iteration:[{i}]:\\n\n",
    "                bp_list: {bp_list[i].shape}\\n\n",
    "                prod_dh: {prod_dh.shape}\\n\n",
    "                dotable: {bp_list[i][1]==prod_dh.shape[0]}\\n\n",
    "                \"\"\")\n",
    "                \n",
    "            try:\n",
    "                prod_dh = bp_list[i].dot(prod_dh)\n",
    "            except:\n",
    "                prod_dh = bp_list[i] * (prod_dh)\n",
    "            \n",
    "    \n",
    "        # dot dw with the prod_dh transpose\n",
    "        dldw = bp_list[-1].dot(prod_dh.T)\n",
    "        return dldw\n",
    "    \n",
    "    def gd(self,\n",
    "           x:np.array,\n",
    "           y:np.array,\n",
    "           eta:float=0.1,\n",
    "           iters:int=10,\n",
    "           debug:bool=False\n",
    "          ):\n",
    "        # list of errors?\n",
    "        ls_mse = []\n",
    "        \n",
    "        for i in range(iters):\n",
    "            # compute the fwd pass\n",
    "            fwp = self.fw(x)\n",
    "            # compute the loss\n",
    "            fwl = self.loss.fw(f=fwp,y=y)\n",
    "            bpl = self.loss.bp(f=fwp,y=y).reshape(1,-1)\n",
    "            for fidx in range(len(self.weights)):\n",
    "                ridx = len(self.weights) - fidx - 1\n",
    "                bpd = self._bp_dot(self._bp_list_factors(fidx),bpl,debug=debug)\n",
    "                    \n",
    "                if debug:\n",
    "                    print(f\"shape match: {self.weights[ridx].shape == bpd.shape}\")\n",
    "                    print(f\"    self.weights[{ridx}]\",self.weights[ridx].shape)\n",
    "                    print(f\"    self._bp_dot[{ridx}]\",bpd.shape)\n",
    "\n",
    "                if bpd.shape == self.weights[ridx].shape:\n",
    "                    # overwrite the weights if the shapes match:\n",
    "                    self.weights[ridx] = (self.weights[ridx] - eta * bpd)\n",
    "                else:\n",
    "                    # throw error otherwise\n",
    "                    raise Exception(\"invalid weight shape\"+\n",
    "                                    f\"expected{self.weights[ridx].shape}; got{bpd.shape}\")\n",
    "            \n",
    "            ls_mse.append(fwl)\n",
    "        return ls_mse"
   ]
  },
  {
   "cell_type": "code",
   "execution_count": 18,
   "id": "90c87d14-0beb-4c19-91a3-1891889c1618",
   "metadata": {},
   "outputs": [],
   "source": [
    "class MLPLayer:\n",
    "    \"\"\"Represents a single layer in the MLP.\n",
    "    \n",
    "    \"\"\"\n",
    "    def __init__(self,nodes,afunc):\n",
    "        self.nodes = int(nodes)\n",
    "        self.afunc = afunc\n",
    "        self.h = None\n",
    "\n",
    "    def __repr__(self):\n",
    "        \"\"\"overwrite representation for pretty print\"\"\"\n",
    "        return \"<MLPLayer: {nodes:\"+f\"{self.nodes},afunc:{self.afunc}\"+\"}>\"\n",
    "\n",
    "    def get_nodes(self):\n",
    "        return self.nodes+0\n",
    "\n",
    "    def fw(self,w:np.array,x:np.array):\n",
    "        \"\"\"store and return the\n",
    "        post-activation values \n",
    "        of a forward pass.\"\"\"\n",
    "        self.h = self.afunc.fw(w=w,x=x)\n",
    "        return self.h.copy()\n",
    "\n",
    "    def bp_w(self,w:np.array):\n",
    "        return self.afunc.bp_w(w=w,x=self.h)\n",
    "\n",
    "    def bp_x(self,w:np.array):\n",
    "        return self.afunc.bp_x(w=w,x=self.h)"
   ]
  },
  {
   "cell_type": "code",
   "execution_count": null,
   "id": "a66ecf29-8de4-40cc-9b4c-a93c92b0e4fd",
   "metadata": {},
   "outputs": [],
   "source": []
  },
  {
   "cell_type": "code",
   "execution_count": null,
   "id": "a5871c55-7f64-4b59-ab2c-2966f756462d",
   "metadata": {},
   "outputs": [],
   "source": []
  },
  {
   "cell_type": "code",
   "execution_count": null,
   "id": "9e46e966-db94-4254-8eed-2372d7a63f72",
   "metadata": {},
   "outputs": [],
   "source": []
  },
  {
   "cell_type": "code",
   "execution_count": 86,
   "id": "51cffb62-7b04-44ab-9b89-c9c1cec3cd32",
   "metadata": {},
   "outputs": [],
   "source": [
    "mlp = MLP()\n",
    "mlp.add_layer(6,LinearAF()) # input x\n",
    "mlp.add_layer(10,LinearAF())\n",
    "mlp.add_layer(20,LinearAF())\n",
    "mlp.add_layer(1,ReluAF()) # prediction f_w(x)\n",
    "\n",
    "# run 1000 iters of gradient descent\n",
    "err = mlp.gd(x_train.T,\n",
    "             y_train.T,\n",
    "             eta=0.00001,\n",
    "             iters=10_000)"
   ]
  },
  {
   "cell_type": "code",
   "execution_count": 87,
   "id": "e209bb7d-6a25-496d-a636-7a404e4afada",
   "metadata": {},
   "outputs": [
    {
     "data": {
      "text/plain": [
       "[array([[0.029662827903849213, 0.029662827903849213, 0.029662827903849213,\n",
       "         0.029662827903849213, 0.029662827903849213, 0.029662827903849213,\n",
       "         0.029662827903849213, 0.029662827903849213, 0.029662827903849213,\n",
       "         0.029662827903849213],\n",
       "        [-0.02644126251526461, -0.02644126251526461, -0.02644126251526461,\n",
       "         -0.02644126251526461, -0.02644126251526461, -0.02644126251526461,\n",
       "         -0.02644126251526461, -0.02644126251526461, -0.02644126251526461,\n",
       "         -0.02644126251526461],\n",
       "        [0.3148760002969946, 0.3148760002969946, 0.3148760002969946,\n",
       "         0.3148760002969946, 0.3148760002969946, 0.3148760002969946,\n",
       "         0.3148760002969946, 0.3148760002969946, 0.3148760002969946,\n",
       "         0.3148760002969946],\n",
       "        [-0.004896011877386425, -0.004896011877386425,\n",
       "         -0.004896011877386425, -0.004896011877386425,\n",
       "         -0.004896011877386425, -0.004896011877386425,\n",
       "         -0.004896011877386425, -0.004896011877386425,\n",
       "         -0.004896011877386425, -0.004896011877386425],\n",
       "        [-0.13320144117897223, -0.13320144117897223, -0.13320144117897223,\n",
       "         -0.13320144117897223, -0.13320144117897223, -0.13320144117897223,\n",
       "         -0.13320144117897223, -0.13320144117897223, -0.13320144117897223,\n",
       "         -0.13320144117897223],\n",
       "        [1.4112309521721031, 1.4112309521721031, 1.4112309521721031,\n",
       "         1.4112309521721031, 1.4112309521721031, 1.4112309521721031,\n",
       "         1.4112309521721031, 1.4112309521721031, 1.4112309521721031,\n",
       "         1.4112309521721031]], dtype=object),\n",
       " array([[0.28431488876887834, 0.28431488876887834, 0.28431488876887834,\n",
       "         0.28431488876887834, 0.28431488876887834, 0.28431488876887834,\n",
       "         0.28431488876887834, 0.28431488876887834, 0.28431488876887834,\n",
       "         0.28431488876887834, 0.28431488876887834, 0.28431488876887834,\n",
       "         0.28431488876887834, 0.28431488876887834, 0.28431488876887834,\n",
       "         0.28431488876887834, 0.28431488876887834, 0.28431488876887834,\n",
       "         0.28431488876887834, 0.28431488876887834],\n",
       "        [0.28431488876887834, 0.28431488876887834, 0.28431488876887834,\n",
       "         0.28431488876887834, 0.28431488876887834, 0.28431488876887834,\n",
       "         0.28431488876887834, 0.28431488876887834, 0.28431488876887834,\n",
       "         0.28431488876887834, 0.28431488876887834, 0.28431488876887834,\n",
       "         0.28431488876887834, 0.28431488876887834, 0.28431488876887834,\n",
       "         0.28431488876887834, 0.28431488876887834, 0.28431488876887834,\n",
       "         0.28431488876887834, 0.28431488876887834],\n",
       "        [0.28431488876887834, 0.28431488876887834, 0.28431488876887834,\n",
       "         0.28431488876887834, 0.28431488876887834, 0.28431488876887834,\n",
       "         0.28431488876887834, 0.28431488876887834, 0.28431488876887834,\n",
       "         0.28431488876887834, 0.28431488876887834, 0.28431488876887834,\n",
       "         0.28431488876887834, 0.28431488876887834, 0.28431488876887834,\n",
       "         0.28431488876887834, 0.28431488876887834, 0.28431488876887834,\n",
       "         0.28431488876887834, 0.28431488876887834],\n",
       "        [0.28431488876887834, 0.28431488876887834, 0.28431488876887834,\n",
       "         0.28431488876887834, 0.28431488876887834, 0.28431488876887834,\n",
       "         0.28431488876887834, 0.28431488876887834, 0.28431488876887834,\n",
       "         0.28431488876887834, 0.28431488876887834, 0.28431488876887834,\n",
       "         0.28431488876887834, 0.28431488876887834, 0.28431488876887834,\n",
       "         0.28431488876887834, 0.28431488876887834, 0.28431488876887834,\n",
       "         0.28431488876887834, 0.28431488876887834],\n",
       "        [0.28431488876887834, 0.28431488876887834, 0.28431488876887834,\n",
       "         0.28431488876887834, 0.28431488876887834, 0.28431488876887834,\n",
       "         0.28431488876887834, 0.28431488876887834, 0.28431488876887834,\n",
       "         0.28431488876887834, 0.28431488876887834, 0.28431488876887834,\n",
       "         0.28431488876887834, 0.28431488876887834, 0.28431488876887834,\n",
       "         0.28431488876887834, 0.28431488876887834, 0.28431488876887834,\n",
       "         0.28431488876887834, 0.28431488876887834],\n",
       "        [0.28431488876887834, 0.28431488876887834, 0.28431488876887834,\n",
       "         0.28431488876887834, 0.28431488876887834, 0.28431488876887834,\n",
       "         0.28431488876887834, 0.28431488876887834, 0.28431488876887834,\n",
       "         0.28431488876887834, 0.28431488876887834, 0.28431488876887834,\n",
       "         0.28431488876887834, 0.28431488876887834, 0.28431488876887834,\n",
       "         0.28431488876887834, 0.28431488876887834, 0.28431488876887834,\n",
       "         0.28431488876887834, 0.28431488876887834],\n",
       "        [0.28431488876887834, 0.28431488876887834, 0.28431488876887834,\n",
       "         0.28431488876887834, 0.28431488876887834, 0.28431488876887834,\n",
       "         0.28431488876887834, 0.28431488876887834, 0.28431488876887834,\n",
       "         0.28431488876887834, 0.28431488876887834, 0.28431488876887834,\n",
       "         0.28431488876887834, 0.28431488876887834, 0.28431488876887834,\n",
       "         0.28431488876887834, 0.28431488876887834, 0.28431488876887834,\n",
       "         0.28431488876887834, 0.28431488876887834],\n",
       "        [0.28431488876887834, 0.28431488876887834, 0.28431488876887834,\n",
       "         0.28431488876887834, 0.28431488876887834, 0.28431488876887834,\n",
       "         0.28431488876887834, 0.28431488876887834, 0.28431488876887834,\n",
       "         0.28431488876887834, 0.28431488876887834, 0.28431488876887834,\n",
       "         0.28431488876887834, 0.28431488876887834, 0.28431488876887834,\n",
       "         0.28431488876887834, 0.28431488876887834, 0.28431488876887834,\n",
       "         0.28431488876887834, 0.28431488876887834],\n",
       "        [0.28431488876887834, 0.28431488876887834, 0.28431488876887834,\n",
       "         0.28431488876887834, 0.28431488876887834, 0.28431488876887834,\n",
       "         0.28431488876887834, 0.28431488876887834, 0.28431488876887834,\n",
       "         0.28431488876887834, 0.28431488876887834, 0.28431488876887834,\n",
       "         0.28431488876887834, 0.28431488876887834, 0.28431488876887834,\n",
       "         0.28431488876887834, 0.28431488876887834, 0.28431488876887834,\n",
       "         0.28431488876887834, 0.28431488876887834],\n",
       "        [0.28431488876887834, 0.28431488876887834, 0.28431488876887834,\n",
       "         0.28431488876887834, 0.28431488876887834, 0.28431488876887834,\n",
       "         0.28431488876887834, 0.28431488876887834, 0.28431488876887834,\n",
       "         0.28431488876887834, 0.28431488876887834, 0.28431488876887834,\n",
       "         0.28431488876887834, 0.28431488876887834, 0.28431488876887834,\n",
       "         0.28431488876887834, 0.28431488876887834, 0.28431488876887834,\n",
       "         0.28431488876887834, 0.28431488876887834]], dtype=object),\n",
       " array([[0.785377360252964],\n",
       "        [0.785377360252964],\n",
       "        [0.785377360252964],\n",
       "        [0.785377360252964],\n",
       "        [0.785377360252964],\n",
       "        [0.785377360252964],\n",
       "        [0.785377360252964],\n",
       "        [0.785377360252964],\n",
       "        [0.785377360252964],\n",
       "        [0.785377360252964],\n",
       "        [0.785377360252964],\n",
       "        [0.785377360252964],\n",
       "        [0.785377360252964],\n",
       "        [0.785377360252964],\n",
       "        [0.785377360252964],\n",
       "        [0.785377360252964],\n",
       "        [0.785377360252964],\n",
       "        [0.785377360252964],\n",
       "        [0.785377360252964],\n",
       "        [0.785377360252964]], dtype=object)]"
      ]
     },
     "execution_count": 87,
     "metadata": {},
     "output_type": "execute_result"
    }
   ],
   "source": [
    "mlp.weights"
   ]
  },
  {
   "cell_type": "code",
   "execution_count": 88,
   "id": "53608c64-3b2c-49da-9526-98f79d57cc6e",
   "metadata": {},
   "outputs": [
    {
     "data": {
      "image/png": "[encoded data removed]",
      "text/plain": [
       "<Figure size 640x480 with 1 Axes>"
      ]
     },
     "metadata": {},
     "output_type": "display_data"
    }
   ],
   "source": [
    "# plot the change in error over iterations\n",
    "plt.plot(err)\n",
    "plt.title(\"MSE of MLP vs Epochs\")\n",
    "plt.xlabel(\"Epochs\")\n",
    "plt.ylabel(\"MSE Loss Error\")\n",
    "plt.show()"
   ]
  },
  {
   "cell_type": "code",
   "execution_count": 89,
   "id": "d79ee0d8-91d1-4e51-b008-dbc73628767a",
   "metadata": {},
   "outputs": [],
   "source": [
    "y_pred = mlp.fw(x_train.T).astype(int)"
   ]
  },
  {
   "cell_type": "code",
   "execution_count": 90,
   "id": "9b92678a-ce82-4086-8d88-5020e86f0ed7",
   "metadata": {},
   "outputs": [
    {
     "data": {
      "text/plain": [
       "array([[1.        , 0.71223542],\n",
       "       [0.71223542, 1.        ]])"
      ]
     },
     "execution_count": 90,
     "metadata": {},
     "output_type": "execute_result"
    }
   ],
   "source": [
    "np.corrcoef(y_pred.flatten(),y_train.flatten())"
   ]
  },
  {
   "cell_type": "code",
   "execution_count": 91,
   "id": "7c16ff88-989c-4445-89f7-e875961fce52",
   "metadata": {},
   "outputs": [
    {
     "data": {
      "text/plain": [
       "(-40.0, 100.0)"
      ]
     },
     "execution_count": 91,
     "metadata": {},
     "output_type": "execute_result"
    },
    {
     "data": {
      "image/png": "[encoded data removed]",
      "text/plain": [
       "<Figure size 640x480 with 1 Axes>"
      ]
     },
     "metadata": {},
     "output_type": "display_data"
    }
   ],
   "source": [
    "plt.hist(y_pred.astype(int).flatten())\n",
    "plt.xlim(-40,100)"
   ]
  },
  {
   "cell_type": "code",
   "execution_count": 92,
   "id": "b77b4836-f1a0-4c4f-84fe-dacfc74cf6f2",
   "metadata": {},
   "outputs": [
    {
     "data": {
      "text/plain": [
       "(-40.0, 100.0)"
      ]
     },
     "execution_count": 92,
     "metadata": {},
     "output_type": "execute_result"
    },
    {
     "data": {
      "image/png": "[encoded data removed]",
      "text/plain": [
       "<Figure size 640x480 with 1 Axes>"
      ]
     },
     "metadata": {},
     "output_type": "display_data"
    }
   ],
   "source": [
    "plt.hist(y_test.astype(int).flatten())\n",
    "plt.xlim(-40,100)"
   ]
  },
  {
   "cell_type": "code",
   "execution_count": null,
   "id": "61683928-1923-4246-8537-7803cb02514d",
   "metadata": {},
   "outputs": [],
   "source": []
  },
  {
   "cell_type": "code",
   "execution_count": null,
   "id": "24be1fd4-6bab-4450-b0d6-433de4956578",
   "metadata": {},
   "outputs": [],
   "source": []
  }
 ],
 "metadata": {
  "kernelspec": {
   "display_name": "Python 3 (ipykernel)",
   "language": "python",
   "name": "python3"
  },
  "language_info": {
   "codemirror_mode": {
    "name": "ipython",
    "version": 3
   },
   "file_extension": ".py",
   "mimetype": "text/x-python",
   "name": "python",
   "nbconvert_exporter": "python",
   "pygments_lexer": "ipython3",
   "version": "3.11.7"
  }
 },
 "nbformat": 4,
 "nbformat_minor": 5
}
