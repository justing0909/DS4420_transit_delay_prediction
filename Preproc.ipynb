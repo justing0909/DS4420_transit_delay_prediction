{
 "cells": [
  {
   "cell_type": "code",
   "execution_count": 1,
   "id": "9dfb086d-0588-4081-9992-e214f142702f",
   "metadata": {},
   "outputs": [],
   "source": [
    "import matplotlib.pyplot as plt"
   ]
  },
  {
   "cell_type": "code",
   "execution_count": 2,
   "id": "98a41347-fd68-4e85-9c37-8c7ad3f6cbee",
   "metadata": {},
   "outputs": [
    {
     "name": "stdout",
     "output_type": "stream",
     "text": [
      "# Import common funcs/libs for DS4420\n",
      "\n",
      "# imports\n",
      "import os\n",
      "import numpy as np\n",
      "import pandas as pd\n",
      "\n",
      "# funcs / constants\n",
      "SOURCE_FOLDER = ''\n",
      "listAssets(suffix=False)\n",
      "\n"
     ]
    }
   ],
   "source": [
    "%run .\\import.ipynb"
   ]
  },
  {
   "cell_type": "code",
   "execution_count": 3,
   "id": "957c49fa-9eb0-4f57-94f5-f55b2501b757",
   "metadata": {},
   "outputs": [],
   "source": [
    "SOURCE_FOLDER = \"project\""
   ]
  },
  {
   "cell_type": "code",
   "execution_count": 4,
   "id": "c30417e5-a030-4844-a4f5-07f063328b3e",
   "metadata": {},
   "outputs": [
    {
     "data": {
      "text/plain": [
       "['C:\\\\Users\\\\Overl\\\\DS4420\\\\assets\\\\project\\\\2025-01_HRTravelTimes.csv',\n",
       " 'C:\\\\Users\\\\Overl\\\\DS4420\\\\assets\\\\project\\\\2025-01_LRTravelTimes.csv',\n",
       " 'C:\\\\Users\\\\Overl\\\\DS4420\\\\assets\\\\project\\\\2025-02_HRTravelTimes.csv',\n",
       " 'C:\\\\Users\\\\Overl\\\\DS4420\\\\assets\\\\project\\\\2025-02_LRTravelTimes.csv',\n",
       " 'C:\\\\Users\\\\Overl\\\\DS4420\\\\assets\\\\project\\\\2025-03_HRTravelTimes.csv',\n",
       " 'C:\\\\Users\\\\Overl\\\\DS4420\\\\assets\\\\project\\\\2025-03_LRTravelTimes.csv']"
      ]
     },
     "execution_count": 4,
     "metadata": {},
     "output_type": "execute_result"
    }
   ],
   "source": [
    "listAssets()"
   ]
  },
  {
   "cell_type": "code",
   "execution_count": 5,
   "id": "637b7052-b2d6-4e90-99c8-9a8aebff4f66",
   "metadata": {
    "scrolled": true
   },
   "outputs": [],
   "source": [
    "ht1 = pd.read_csv(listAssets()[0],low_memory=False)"
   ]
  },
  {
   "cell_type": "code",
   "execution_count": 6,
   "id": "98cbe68f-dced-4030-af2b-2bd34614f35d",
   "metadata": {},
   "outputs": [],
   "source": [
    "ht1 = ht1[ht1[\"from_stop_name\"] == \"Ruggles\"]"
   ]
  },
  {
   "cell_type": "code",
   "execution_count": 7,
   "id": "2e24be57-c56d-4839-bf7c-eff40f71d0c5",
   "metadata": {},
   "outputs": [],
   "source": [
    "ht1 = ht1[ht1[\"to_stop_name\"] == \"Downtown Crossing\"]"
   ]
  },
  {
   "cell_type": "code",
   "execution_count": 55,
   "id": "b38e4e1e-6a70-4009-b792-1185931a4b47",
   "metadata": {},
   "outputs": [
    {
     "data": {
      "text/html": [
       "<div>\n",
       "<style scoped>\n",
       "    .dataframe tbody tr th:only-of-type {\n",
       "        vertical-align: middle;\n",
       "    }\n",
       "\n",
       "    .dataframe tbody tr th {\n",
       "        vertical-align: top;\n",
       "    }\n",
       "\n",
       "    .dataframe thead th {\n",
       "        text-align: right;\n",
       "    }\n",
       "</style>\n",
       "<table border=\"1\" class=\"dataframe\">\n",
       "  <thead>\n",
       "    <tr style=\"text-align: right;\">\n",
       "      <th></th>\n",
       "      <th>from_time</th>\n",
       "      <th>travel_time_sec</th>\n",
       "    </tr>\n",
       "  </thead>\n",
       "  <tbody>\n",
       "    <tr>\n",
       "      <th>34934</th>\n",
       "      <td>2025-01-01T07:37:13Z</td>\n",
       "      <td>437</td>\n",
       "    </tr>\n",
       "    <tr>\n",
       "      <th>35124</th>\n",
       "      <td>2025-01-01T09:05:05Z</td>\n",
       "      <td>628</td>\n",
       "    </tr>\n",
       "    <tr>\n",
       "      <th>35314</th>\n",
       "      <td>2025-01-01T10:37:03Z</td>\n",
       "      <td>550</td>\n",
       "    </tr>\n",
       "    <tr>\n",
       "      <th>35504</th>\n",
       "      <td>2025-01-01T12:03:11Z</td>\n",
       "      <td>478</td>\n",
       "    </tr>\n",
       "    <tr>\n",
       "      <th>35694</th>\n",
       "      <td>2025-01-01T13:34:17Z</td>\n",
       "      <td>512</td>\n",
       "    </tr>\n",
       "    <tr>\n",
       "      <th>...</th>\n",
       "      <td>...</td>\n",
       "      <td>...</td>\n",
       "    </tr>\n",
       "    <tr>\n",
       "      <th>3874652</th>\n",
       "      <td>2025-01-31T23:49:38Z</td>\n",
       "      <td>464</td>\n",
       "    </tr>\n",
       "    <tr>\n",
       "      <th>3874743</th>\n",
       "      <td>2025-02-01T00:01:17Z</td>\n",
       "      <td>458</td>\n",
       "    </tr>\n",
       "    <tr>\n",
       "      <th>3874834</th>\n",
       "      <td>2025-02-01T00:14:57Z</td>\n",
       "      <td>501</td>\n",
       "    </tr>\n",
       "    <tr>\n",
       "      <th>3874925</th>\n",
       "      <td>2025-02-01T00:28:43Z</td>\n",
       "      <td>470</td>\n",
       "    </tr>\n",
       "    <tr>\n",
       "      <th>3875016</th>\n",
       "      <td>2025-02-01T00:41:28Z</td>\n",
       "      <td>464</td>\n",
       "    </tr>\n",
       "  </tbody>\n",
       "</table>\n",
       "<p>4656 rows × 2 columns</p>\n",
       "</div>"
      ],
      "text/plain": [
       "                    from_time  travel_time_sec\n",
       "34934    2025-01-01T07:37:13Z              437\n",
       "35124    2025-01-01T09:05:05Z              628\n",
       "35314    2025-01-01T10:37:03Z              550\n",
       "35504    2025-01-01T12:03:11Z              478\n",
       "35694    2025-01-01T13:34:17Z              512\n",
       "...                       ...              ...\n",
       "3874652  2025-01-31T23:49:38Z              464\n",
       "3874743  2025-02-01T00:01:17Z              458\n",
       "3874834  2025-02-01T00:14:57Z              501\n",
       "3874925  2025-02-01T00:28:43Z              470\n",
       "3875016  2025-02-01T00:41:28Z              464\n",
       "\n",
       "[4656 rows x 2 columns]"
      ]
     },
     "execution_count": 55,
     "metadata": {},
     "output_type": "execute_result"
    }
   ],
   "source": [
    "rtd_secs = ht1.loc[:,[\"from_stop_departure_datetime\",\"travel_time_sec\"]]\n",
    "rtd_secs.rename(columns={'from_stop_departure_datetime': 'from_time'}, inplace=True)\n",
    "rtd_secs"
   ]
  },
  {
   "cell_type": "code",
   "execution_count": 33,
   "id": "5f1acb58-4d27-4219-8cc2-5e5f59e20227",
   "metadata": {},
   "outputs": [
    {
     "data": {
      "text/html": [
       "<div>\n",
       "<style scoped>\n",
       "    .dataframe tbody tr th:only-of-type {\n",
       "        vertical-align: middle;\n",
       "    }\n",
       "\n",
       "    .dataframe tbody tr th {\n",
       "        vertical-align: top;\n",
       "    }\n",
       "\n",
       "    .dataframe thead th {\n",
       "        text-align: right;\n",
       "    }\n",
       "</style>\n",
       "<table border=\"1\" class=\"dataframe\">\n",
       "  <thead>\n",
       "    <tr style=\"text-align: right;\">\n",
       "      <th></th>\n",
       "      <th>from_stop_departure_datetime</th>\n",
       "      <th>travel_time_sec</th>\n",
       "    </tr>\n",
       "  </thead>\n",
       "  <tbody>\n",
       "    <tr>\n",
       "      <th>34934</th>\n",
       "      <td>2025-01-01T07:37:13Z</td>\n",
       "      <td>437</td>\n",
       "    </tr>\n",
       "    <tr>\n",
       "      <th>35124</th>\n",
       "      <td>2025-01-01T09:05:05Z</td>\n",
       "      <td>628</td>\n",
       "    </tr>\n",
       "    <tr>\n",
       "      <th>35314</th>\n",
       "      <td>2025-01-01T10:37:03Z</td>\n",
       "      <td>550</td>\n",
       "    </tr>\n",
       "    <tr>\n",
       "      <th>35504</th>\n",
       "      <td>2025-01-01T12:03:11Z</td>\n",
       "      <td>478</td>\n",
       "    </tr>\n",
       "    <tr>\n",
       "      <th>35694</th>\n",
       "      <td>2025-01-01T13:34:17Z</td>\n",
       "      <td>512</td>\n",
       "    </tr>\n",
       "    <tr>\n",
       "      <th>...</th>\n",
       "      <td>...</td>\n",
       "      <td>...</td>\n",
       "    </tr>\n",
       "    <tr>\n",
       "      <th>3874652</th>\n",
       "      <td>2025-01-31T23:49:38Z</td>\n",
       "      <td>464</td>\n",
       "    </tr>\n",
       "    <tr>\n",
       "      <th>3874743</th>\n",
       "      <td>2025-02-01T00:01:17Z</td>\n",
       "      <td>458</td>\n",
       "    </tr>\n",
       "    <tr>\n",
       "      <th>3874834</th>\n",
       "      <td>2025-02-01T00:14:57Z</td>\n",
       "      <td>501</td>\n",
       "    </tr>\n",
       "    <tr>\n",
       "      <th>3874925</th>\n",
       "      <td>2025-02-01T00:28:43Z</td>\n",
       "      <td>470</td>\n",
       "    </tr>\n",
       "    <tr>\n",
       "      <th>3875016</th>\n",
       "      <td>2025-02-01T00:41:28Z</td>\n",
       "      <td>464</td>\n",
       "    </tr>\n",
       "  </tbody>\n",
       "</table>\n",
       "<p>4656 rows × 2 columns</p>\n",
       "</div>"
      ],
      "text/plain": [
       "        from_stop_departure_datetime  travel_time_sec\n",
       "34934           2025-01-01T07:37:13Z              437\n",
       "35124           2025-01-01T09:05:05Z              628\n",
       "35314           2025-01-01T10:37:03Z              550\n",
       "35504           2025-01-01T12:03:11Z              478\n",
       "35694           2025-01-01T13:34:17Z              512\n",
       "...                              ...              ...\n",
       "3874652         2025-01-31T23:49:38Z              464\n",
       "3874743         2025-02-01T00:01:17Z              458\n",
       "3874834         2025-02-01T00:14:57Z              501\n",
       "3874925         2025-02-01T00:28:43Z              470\n",
       "3875016         2025-02-01T00:41:28Z              464\n",
       "\n",
       "[4656 rows x 2 columns]"
      ]
     },
     "execution_count": 33,
     "metadata": {},
     "output_type": "execute_result"
    }
   ],
   "source": [
    "rtd_secs"
   ]
  },
  {
   "cell_type": "code",
   "execution_count": 38,
   "id": "b4cb7919-3f3c-46f7-b787-653873faae2e",
   "metadata": {},
   "outputs": [
    {
     "data": {
      "text/plain": [
       "3641"
      ]
     },
     "execution_count": 38,
     "metadata": {},
     "output_type": "execute_result"
    }
   ],
   "source": [
    "np.max(rtd_secs[\"travel_time_sec\"])"
   ]
  },
  {
   "cell_type": "code",
   "execution_count": 40,
   "id": "42210feb-4ab3-4a52-ba75-0e3d5246abf4",
   "metadata": {},
   "outputs": [
    {
     "data": {
      "image/png": "[encoded data removed]",
      "text/plain": [
       "<Figure size 640x480 with 1 Axes>"
      ]
     },
     "metadata": {},
     "output_type": "display_data"
    }
   ],
   "source": [
    "plt.hist(rtd_secs[\"travel_time_sec\"],bins=100,density=True)\n",
    "plt.xlabel(\"time in sec\")\n",
    "plt.ylabel(\"frequency\")\n",
    "plt.xlim(0,4000)\n",
    "plt.title(\"Orange Line Train From Ruggle to DTXG\")\n",
    "plt.show()"
   ]
  },
  {
   "cell_type": "code",
   "execution_count": 46,
   "id": "76d6b043-1dbe-4e60-b3ae-28b5dc5dc235",
   "metadata": {},
   "outputs": [],
   "source": [
    "rtd_secs.to_csv(\"ruggles2dtxg.csv\",index=False)"
   ]
  },
  {
   "cell_type": "code",
   "execution_count": null,
   "id": "a6fd91ad-efd0-42db-94d8-79d3847e5f3a",
   "metadata": {},
   "outputs": [],
   "source": []
  },
  {
   "cell_type": "code",
   "execution_count": 49,
   "id": "004f3a3d-52d0-4dd7-a05a-e46c4f9c3f9f",
   "metadata": {},
   "outputs": [
    {
     "data": {
      "text/html": [
       "<div>\n",
       "<style scoped>\n",
       "    .dataframe tbody tr th:only-of-type {\n",
       "        vertical-align: middle;\n",
       "    }\n",
       "\n",
       "    .dataframe tbody tr th {\n",
       "        vertical-align: top;\n",
       "    }\n",
       "\n",
       "    .dataframe thead th {\n",
       "        text-align: right;\n",
       "    }\n",
       "</style>\n",
       "<table border=\"1\" class=\"dataframe\">\n",
       "  <thead>\n",
       "    <tr style=\"text-align: right;\">\n",
       "      <th></th>\n",
       "      <th>from_stop_departure_datetime</th>\n",
       "      <th>travel_time_sec</th>\n",
       "    </tr>\n",
       "  </thead>\n",
       "  <tbody>\n",
       "    <tr>\n",
       "      <th>0</th>\n",
       "      <td>2025-01-01T07:37:13Z</td>\n",
       "      <td>437</td>\n",
       "    </tr>\n",
       "    <tr>\n",
       "      <th>1</th>\n",
       "      <td>2025-01-01T09:05:05Z</td>\n",
       "      <td>628</td>\n",
       "    </tr>\n",
       "    <tr>\n",
       "      <th>2</th>\n",
       "      <td>2025-01-01T10:37:03Z</td>\n",
       "      <td>550</td>\n",
       "    </tr>\n",
       "    <tr>\n",
       "      <th>3</th>\n",
       "      <td>2025-01-01T12:03:11Z</td>\n",
       "      <td>478</td>\n",
       "    </tr>\n",
       "    <tr>\n",
       "      <th>4</th>\n",
       "      <td>2025-01-01T13:34:17Z</td>\n",
       "      <td>512</td>\n",
       "    </tr>\n",
       "    <tr>\n",
       "      <th>...</th>\n",
       "      <td>...</td>\n",
       "      <td>...</td>\n",
       "    </tr>\n",
       "    <tr>\n",
       "      <th>4651</th>\n",
       "      <td>2025-01-31T23:49:38Z</td>\n",
       "      <td>464</td>\n",
       "    </tr>\n",
       "    <tr>\n",
       "      <th>4652</th>\n",
       "      <td>2025-02-01T00:01:17Z</td>\n",
       "      <td>458</td>\n",
       "    </tr>\n",
       "    <tr>\n",
       "      <th>4653</th>\n",
       "      <td>2025-02-01T00:14:57Z</td>\n",
       "      <td>501</td>\n",
       "    </tr>\n",
       "    <tr>\n",
       "      <th>4654</th>\n",
       "      <td>2025-02-01T00:28:43Z</td>\n",
       "      <td>470</td>\n",
       "    </tr>\n",
       "    <tr>\n",
       "      <th>4655</th>\n",
       "      <td>2025-02-01T00:41:28Z</td>\n",
       "      <td>464</td>\n",
       "    </tr>\n",
       "  </tbody>\n",
       "</table>\n",
       "<p>4656 rows × 2 columns</p>\n",
       "</div>"
      ],
      "text/plain": [
       "     from_stop_departure_datetime  travel_time_sec\n",
       "0            2025-01-01T07:37:13Z              437\n",
       "1            2025-01-01T09:05:05Z              628\n",
       "2            2025-01-01T10:37:03Z              550\n",
       "3            2025-01-01T12:03:11Z              478\n",
       "4            2025-01-01T13:34:17Z              512\n",
       "...                           ...              ...\n",
       "4651         2025-01-31T23:49:38Z              464\n",
       "4652         2025-02-01T00:01:17Z              458\n",
       "4653         2025-02-01T00:14:57Z              501\n",
       "4654         2025-02-01T00:28:43Z              470\n",
       "4655         2025-02-01T00:41:28Z              464\n",
       "\n",
       "[4656 rows x 2 columns]"
      ]
     },
     "execution_count": 49,
     "metadata": {},
     "output_type": "execute_result"
    }
   ],
   "source": [
    "pd.read_csv(\"ruggles2dtxg.csv\")"
   ]
  },
  {
   "cell_type": "code",
   "execution_count": null,
   "id": "c0e411e9-99bb-409c-b290-24569d7f2a53",
   "metadata": {},
   "outputs": [],
   "source": []
  },
  {
   "cell_type": "code",
   "execution_count": null,
   "id": "91ce4e69-970c-497c-89bd-10034b21960e",
   "metadata": {},
   "outputs": [],
   "source": []
  },
  {
   "cell_type": "code",
   "execution_count": null,
   "id": "184d792d-0b70-4b37-a2a7-c6c0f119e656",
   "metadata": {},
   "outputs": [],
   "source": []
  }
 ],
 "metadata": {
  "kernelspec": {
   "display_name": "Python 3 (ipykernel)",
   "language": "python",
   "name": "python3"
  },
  "language_info": {
   "codemirror_mode": {
    "name": "ipython",
    "version": 3
   },
   "file_extension": ".py",
   "mimetype": "text/x-python",
   "name": "python",
   "nbconvert_exporter": "python",
   "pygments_lexer": "ipython3",
   "version": "3.11.7"
  }
 },
 "nbformat": 4,
 "nbformat_minor": 5
}
